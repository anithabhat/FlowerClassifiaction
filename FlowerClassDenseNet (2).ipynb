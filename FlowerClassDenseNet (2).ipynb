{
 "cells": [
  {
   "cell_type": "code",
   "execution_count": 1,
   "metadata": {
    "_cell_guid": "79c7e3d0-c299-4dcb-8224-4455121ee9b0",
    "_uuid": "d629ff2d2480ee46fbb7e2d37f6b5fab8052498a"
   },
   "outputs": [
    {
     "name": "stdout",
     "output_type": "stream",
     "text": [
      "2.0.0\n"
     ]
    }
   ],
   "source": [
    "%load_ext tensorboard\n",
    "import numpy as np\n",
    "import matplotlib.pyplot as plt\n",
    "import tensorflow as tf\n",
    "import datetime\n",
    "import os\n",
    "import scipy.io\n",
    "import tarfile\n",
    "from PIL import Image\n",
    "from tqdm.notebook import tqdm_notebook\n",
    "import sklearn\n",
    "import tensorflow as tf\n",
    "from sklearn.model_selection import train_test_split\n",
    "print(tf.__version__)"
   ]
  },
  {
   "cell_type": "code",
   "execution_count": 2,
   "metadata": {},
   "outputs": [
    {
     "data": {
      "text/plain": [
       "True"
      ]
     },
     "execution_count": 2,
     "metadata": {},
     "output_type": "execute_result"
    }
   ],
   "source": [
    "tf.test.is_gpu_available(\n",
    "    cuda_only=False,\n",
    "    min_cuda_compute_capability=None\n",
    ")"
   ]
  },
  {
   "cell_type": "code",
   "execution_count": 3,
   "metadata": {},
   "outputs": [
    {
     "name": "stdout",
     "output_type": "stream",
     "text": [
      "--2019-12-16 11:06:37--  http://www.robots.ox.ac.uk/~vgg/data/flowers/102/102flowers.tgz\n",
      "Resolving www.robots.ox.ac.uk (www.robots.ox.ac.uk)... 129.67.94.2\n",
      "Connecting to www.robots.ox.ac.uk (www.robots.ox.ac.uk)|129.67.94.2|:80... connected.\n",
      "HTTP request sent, awaiting response... 200 OK\n",
      "Length: 344862509 (329M) [application/x-gzip]\n",
      "Saving to: ‘102flowers.tgz.1’\n",
      "\n",
      "102flowers.tgz.1    100%[===================>] 328.89M  83.7MB/s    in 4.0s    \n",
      "\n",
      "2019-12-16 11:06:41 (81.4 MB/s) - ‘102flowers.tgz.1’ saved [344862509/344862509]\n",
      "\n"
     ]
    }
   ],
   "source": [
    "!wget http://www.robots.ox.ac.uk/~vgg/data/flowers/102/102flowers.tgz"
   ]
  },
  {
   "cell_type": "code",
   "execution_count": 4,
   "metadata": {},
   "outputs": [
    {
     "name": "stdout",
     "output_type": "stream",
     "text": [
      "--2019-12-16 11:06:41--  http://www.robots.ox.ac.uk/~vgg/data/flowers/102/imagelabels.mat\n",
      "Resolving www.robots.ox.ac.uk (www.robots.ox.ac.uk)... 129.67.94.2\n",
      "Connecting to www.robots.ox.ac.uk (www.robots.ox.ac.uk)|129.67.94.2|:80... connected.\n",
      "HTTP request sent, awaiting response... 200 OK\n",
      "Length: 502\n",
      "Saving to: ‘imagelabels.mat.1’\n",
      "\n",
      "imagelabels.mat.1   100%[===================>]     502  --.-KB/s    in 0s      \n",
      "\n",
      "2019-12-16 11:06:41 (57.8 MB/s) - ‘imagelabels.mat.1’ saved [502/502]\n",
      "\n"
     ]
    }
   ],
   "source": [
    "!wget http://www.robots.ox.ac.uk/~vgg/data/flowers/102/imagelabels.mat"
   ]
  },
  {
   "cell_type": "code",
   "execution_count": 5,
   "metadata": {},
   "outputs": [],
   "source": [
    "labels = scipy.io.loadmat('imagelabels.mat')\n",
    "labels = np.array(labels['labels'][0])"
   ]
  },
  {
   "cell_type": "code",
   "execution_count": 6,
   "metadata": {},
   "outputs": [],
   "source": [
    "imageFile  = tarfile.open(name='102flowers.tgz', mode='r:gz')\n",
    "\n",
    "savepath = '/tmp/102flowers/'\n",
    "\n",
    "imageFile.extractall(savepath)"
   ]
  },
  {
   "cell_type": "code",
   "execution_count": 7,
   "metadata": {},
   "outputs": [],
   "source": [
    "train_path = '/tmp/train/'\n",
    "test_path = '/tmp/test/'\n",
    "if not os.path.isdir(train_path):\n",
    "  os.mkdir(train_path)\n",
    "if not os.path.isdir(test_path):\n",
    "  os.mkdir(test_path)"
   ]
  },
  {
   "cell_type": "code",
   "execution_count": 8,
   "metadata": {},
   "outputs": [
    {
     "name": "stdout",
     "output_type": "stream",
     "text": [
      "81 %\n"
     ]
    }
   ],
   "source": [
    "count_M20 = 0\n",
    "for i in range(101):\n",
    "    rand = np.random.randint(0, 100, dtype= np.int64)\n",
    "    if rand > 20:\n",
    "        count_M20 += 1\n",
    "print(count_M20, '%')"
   ]
  },
  {
   "cell_type": "code",
   "execution_count": 9,
   "metadata": {},
   "outputs": [
    {
     "data": {
      "application/vnd.jupyter.widget-view+json": {
       "model_id": "13b4804ee6ab493ca91eb6665c1f93cf",
       "version_major": 2,
       "version_minor": 0
      },
      "text/plain": [
       "HBox(children=(IntProgress(value=0, max=8189), HTML(value='')))"
      ]
     },
     "metadata": {},
     "output_type": "display_data"
    },
    {
     "name": "stdout",
     "output_type": "stream",
     "text": [
      "\n"
     ]
    }
   ],
   "source": [
    "path = savepath + 'jpg/'\n",
    "np.random.seed(42)\n",
    "for f in tqdm_notebook(os.listdir(path), total= len(os.listdir(path))):\n",
    "  image = Image.open(os.path.join(path, f))\n",
    "  image_id = int(f.replace('image_', \"\").replace('.jpg',\"\"))\n",
    "  rand = np.random.randint(0,100,dtype= np.int64)\n",
    "  if rand > 20:\n",
    "    if not os.path.isdir(train_path + str(labels[image_id-1])):\n",
    "        os.mkdir(train_path + str(labels[image_id-1]))\n",
    "    image.save(train_path + str(labels[image_id-1]) + '/' + f )\n",
    "  else:\n",
    "    if not os.path.isdir(test_path + str(labels[image_id-1])):\n",
    "        os.mkdir(test_path + str(labels[image_id-1]))\n",
    "    image.save(test_path + str(labels[image_id-1]) + '/' + f )"
   ]
  },
  {
   "cell_type": "code",
   "execution_count": 28,
   "metadata": {},
   "outputs": [
    {
     "name": "stdout",
     "output_type": "stream",
     "text": [
      "Found 5071 images belonging to 102 classes.\n",
      "Found 1361 images belonging to 102 classes.\n",
      "Found 1757 images belonging to 102 classes.\n",
      "Found 1757 images belonging to 102 classes.\n"
     ]
    }
   ],
   "source": [
    "from tensorflow.keras.preprocessing.image import ImageDataGenerator\n",
    "\n",
    "class FixedImageDataGenerator(ImageDataGenerator):\n",
    "    def standardize(self, x):\n",
    "        if self.featurewise_center:\n",
    "            x = ((x/255.) - 0.5) * 2.\n",
    "        return x\n",
    "    \n",
    "data_gen_args = dict(featurewise_center=True,\n",
    "                     featurewise_std_normalization=True,\n",
    "                     rotation_range=90,\n",
    "                     width_shift_range=0.1,\n",
    "                     height_shift_range=0.1,\n",
    "                     zoom_range=0.2,\n",
    "                     rescale = 1/255.,\n",
    "                     validation_split=0.22)\n",
    "\n",
    "#train_datagen = ImageDataGenerator(rescale = 1/255., validation_split=0.2)\n",
    "\n",
    "train_datagen = FixedImageDataGenerator(**data_gen_args)\n",
    "\n",
    "train_generator = train_datagen.flow_from_directory(train_path, subset='training', target_size = (500,500), batch_size = 16, class_mode = 'categorical', seed=42, shuffle=True)\n",
    "\n",
    "valid_generator = train_datagen.flow_from_directory(train_path, subset='validation', target_size = (500,500), batch_size = 16, class_mode = 'categorical', seed=42, shuffle=True)\n",
    "\n",
    "#train_generator = train_datagen.flow(imgs, y_one_hot, batch_size=128, subset='training', seed=42)\n",
    "\n",
    "test_datagen = FixedImageDataGenerator(rescale= 1/255.)\n",
    "\n",
    "test_generator = test_datagen.flow_from_directory(test_path, target_size= (500,500), batch_size = 16, class_mode = 'categorical', seed = 42, shuffle=True)\n",
    "\n",
    "test_genarator2 = train_datagen.flow_from_directory(test_path, target_size= (500,500), batch_size = 16, class_mode = 'categorical', seed = 42, shuffle=True)"
   ]
  },
  {
   "cell_type": "code",
   "execution_count": 11,
   "metadata": {},
   "outputs": [],
   "source": [
    "IMG_WIDTH, IMG_HEIGHT, CHANNELS = (500,500,3)\n",
    "eps = 1.1e-5\n",
    "concat_axis = 3"
   ]
  },
  {
   "cell_type": "code",
   "execution_count": 12,
   "metadata": {},
   "outputs": [],
   "source": [
    "from tensorflow.keras.layers import *\n",
    "from tensorflow.keras.models import Model\n",
    "\n",
    "from tensorflow.keras.layers import Layer, InputSpec\n",
    "try:\n",
    "    from tensorflow.keras import initializations\n",
    "except ImportError:\n",
    "    from tensorflow.keras import initializers as initializations\n",
    "\n",
    "class Scale(Layer):\n",
    "    '''Custom Layer for DenseNet used for BatchNormalization.\n",
    "    \n",
    "    Learns a set of weights and biases used for scaling the input data.\n",
    "    the output consists simply in an element-wise multiplication of the input\n",
    "    and a sum of a set of constants:\n",
    "        out = in * gamma + beta,\n",
    "    where 'gamma' and 'beta' are the weights and biases learnt.\n",
    "    # Arguments\n",
    "        axis: integer, axis along which to normalize in mode 0. For instance,\n",
    "            if your input tensor has shape (samples, channels, rows, cols),\n",
    "            set axis to 1 to normalize per feature map (channels axis).\n",
    "        momentum: momentum in the computation of the\n",
    "            exponential average of the mean and standard deviation\n",
    "            of the data, for feature-wise normalization.\n",
    "        weights: Initialization weights.\n",
    "            List of 2 Numpy arrays, with shapes:\n",
    "            `[(input_shape,), (input_shape,)]`\n",
    "        beta_init: name of initialization function for shift parameter\n",
    "            (see [initializations](../initializations.md)), or alternatively,\n",
    "            Theano/TensorFlow function to use for weights initialization.\n",
    "            This parameter is only relevant if you don't pass a `weights` argument.\n",
    "        gamma_init: name of initialization function for scale parameter (see\n",
    "            [initializations](../initializations.md)), or alternatively,\n",
    "            Theano/TensorFlow function to use for weights initialization.\n",
    "            This parameter is only relevant if you don't pass a `weights` argument.\n",
    "    '''\n",
    "    def __init__(self, weights=None, axis=-1, momentum = 0.9, beta_init='zero', gamma_init='one', **kwargs):\n",
    "        self.momentum = momentum\n",
    "        self.axis = axis\n",
    "        self.beta_init = initializations.get(beta_init)\n",
    "        self.gamma_init = initializations.get(gamma_init)\n",
    "        self.initial_weights = weights\n",
    "        super(Scale, self).__init__(**kwargs)\n",
    "\n",
    "    def build(self, input_shape):\n",
    "        self.input_spec = [InputSpec(shape=input_shape)]\n",
    "        shape = (int(input_shape[self.axis]),)\n",
    "\n",
    "        self.gamma = tf.Variable(self.gamma_init(shape), name='{}_gamma'.format(self.name))\n",
    "        self.beta = tf.Variable(self.beta_init(shape), name='{}_beta'.format(self.name))\n",
    "        #self.trainable_weights = [self.gamma, self.beta]\n",
    "\n",
    "        if self.initial_weights is not None:\n",
    "            self.set_weights(self.initial_weights)\n",
    "            del self.initial_weights\n",
    "\n",
    "    def call(self, x, mask=None):\n",
    "        input_shape = self.input_spec[0].shape\n",
    "        broadcast_shape = [1] * len(input_shape)\n",
    "        broadcast_shape[self.axis] = input_shape[self.axis]\n",
    "\n",
    "        out = tf.reshape(self.gamma, broadcast_shape) * x + tf.reshape(self.beta, broadcast_shape)\n",
    "        return out\n",
    "\n",
    "    def get_config(self):\n",
    "        config = {\"momentum\": self.momentum, \"axis\": self.axis}\n",
    "        base_config = super(Scale, self).get_config()\n",
    "        return dict(list(base_config.items()) + list(config.items()))\n",
    "\n",
    "def conv_block(x, stage, branch, nb_filter, dropout_rate = None, weight_decay = 1e-4):\n",
    "  conv_name_base = 'conv' + str(stage) + '_' + str(branch)\n",
    "  relu_name_base = 'relu' + str(stage) + '_' + str(branch)\n",
    "  #1X1 convolution\n",
    "  inter_channel = nb_filter * 4\n",
    "  x = BatchNormalization(epsilon=eps, axis=concat_axis, name = conv_name_base + '_x1_bn')(x)\n",
    "  x = Scale(axis=concat_axis, name=conv_name_base + '_x1_scale')(x)\n",
    "  x = Activation('relu', name= relu_name_base + '_x1')(x)\n",
    "  x = Conv2D(inter_channel, (1,1), name=conv_name_base + '_x1', use_bias=False)(x)\n",
    "  \n",
    "  if dropout_rate:\n",
    "    x = Dropout(dropout_rate)(x)\n",
    "\n",
    "  #3X3 convolution\n",
    "  x = BatchNormalization(epsilon=eps, axis= concat_axis, name=conv_name_base + '_x2_bn')(x)\n",
    "  x = Scale(axis= concat_axis, name = conv_name_base + '_x2_scale')(x)\n",
    "  x = Activation('relu', name= relu_name_base + '_x2')(x)\n",
    "  x = ZeroPadding2D((1,1), name= conv_name_base + '_x2_zeropadding')(x)\n",
    "  x = Conv2D(nb_filter, (3,3), name=conv_name_base + '_x2', use_bias=False)(x)\n",
    "\n",
    "  if dropout_rate:\n",
    "    x = Dropout(dropout_rate)(x)\n",
    "  \n",
    "  return x\n",
    "\n",
    "def transition_block(x, stage, nb_filter, compression= 1.0, dropout_rate = None, weight_decay = 1e-4):\n",
    "  conv_name_base = 'conv' + str(stage) + '_blk'\n",
    "  relu_name_base = 'relu' + str(stage) + '_blk'\n",
    "  pool_name_base = 'pool' + str(stage)\n",
    "  x = BatchNormalization(epsilon=eps, axis = concat_axis, name=conv_name_base + '_bn')(x)\n",
    "  x = Scale(axis=concat_axis, name=conv_name_base+'_scale')(x)\n",
    "  x = Activation('relu', name= relu_name_base)(x)\n",
    "  x = Conv2D(int(nb_filter * compression), (1,1), name= conv_name_base, use_bias=False)(x)\n",
    "  if dropout_rate:\n",
    "    x = Dropout(dropout_rate)(x)\n",
    "  x = AveragePooling2D((2,2), strides=(2,2), name = pool_name_base)(x)\n",
    "  return x\n",
    "\n",
    "def dense_block(x, stage, nb_layers, nb_filter, growth_rate, dropout_rate=None, weight_decay= 1e-4, grow_nb_filters= True):\n",
    "  concat_feat = x\n",
    "  for i in range(nb_layers):\n",
    "    branch = i + 1\n",
    "    x = conv_block(concat_feat, stage, branch, growth_rate, dropout_rate, weight_decay)\n",
    "    concat_feat = concatenate([concat_feat, x], axis=concat_axis, name = 'concat_'+str(stage)+'_'+str(branch))\n",
    "\n",
    "    if grow_nb_filters:\n",
    "      nb_filter += growth_rate\n",
    "  return concat_feat, nb_filter\n",
    "\n",
    "def DenseNet(nb_dense_block=4, growth_rate=32, nb_filter=64, reduction=0.0, dropout_rate=0.0, weight_decay=1e-4, classes=1000, weights_path=None):\n",
    "  compression = 1.0 - reduction\n",
    "  nb_layers = [2,3,6,4] #[6,12,24,16]\n",
    "  #input layer\n",
    "  img_input = Input(shape=(IMG_WIDTH, IMG_HEIGHT, CHANNELS), name='data')\n",
    "  #initial convolution\n",
    "  x = ZeroPadding2D((3,3), name='conv1_zeropadding')(img_input)\n",
    "  x = Conv2D(nb_filter, (7,7), strides=(2,2), name = 'conv1', use_bias=False )(x)\n",
    "  x = BatchNormalization(epsilon=eps, axis=concat_axis, name='conv1_bn')(x)\n",
    "  x = Scale(axis= concat_axis, name='conv1_scale')(x)\n",
    "  x = Activation(activation='relu', name= 'relu1')(x)\n",
    "  x = ZeroPadding2D((1,1), name='pool1_zeropadding')(x)\n",
    "  x = MaxPool2D((3,3), strides=(2,2), name= 'pool1')(x)\n",
    "\n",
    "  #Adding dense blocks\n",
    "  for i in range(nb_dense_block - 1):\n",
    "    stage = i + 2\n",
    "    x, nb_filter = dense_block(x, stage, nb_layers[i], nb_filter, growth_rate, dropout_rate=dropout_rate, weight_decay=weight_decay)\n",
    "\n",
    "    #transition block\n",
    "    x = transition_block(x, stage, nb_filter, compression=compression, dropout_rate=dropout_rate, weight_decay=weight_decay)\n",
    "    nb_filter = int(nb_filter * compression)\n",
    "  final_stage = stage + 1\n",
    "  x, nb_filter = dense_block(x, final_stage, nb_layers[-1], nb_filter, growth_rate, dropout_rate=dropout_rate,  weight_decay=weight_decay)\n",
    "  x = BatchNormalization(epsilon=eps, axis = concat_axis, name='conv'+str(final_stage)+'_blk_bn')(x)\n",
    "  x = Scale(axis=concat_axis, name='conv'+str(final_stage)+'_blk_scale')(x)\n",
    "  x = Activation('relu', name = 'relu' + str(final_stage) +'_blk' )(x)\n",
    "  x = GlobalAveragePooling2D(name='pool' + str(final_stage) +'_blk')(x)\n",
    "  x = Dense(classes, name='fc6')(x)\n",
    "  x = Activation('softmax', name='prob')(x)\n",
    "  model = Model(img_input, x, name='densenet')\n",
    "  if weights_path is not None:\n",
    "    model.load_weight(weights_path)\n",
    "  model.summary()\n",
    "  return model"
   ]
  },
  {
   "cell_type": "code",
   "execution_count": 13,
   "metadata": {
    "scrolled": false
   },
   "outputs": [
    {
     "name": "stdout",
     "output_type": "stream",
     "text": [
      "Model: \"densenet\"\n",
      "__________________________________________________________________________________________________\n",
      "Layer (type)                    Output Shape         Param #     Connected to                     \n",
      "==================================================================================================\n",
      "data (InputLayer)               [(None, 500, 500, 3) 0                                            \n",
      "__________________________________________________________________________________________________\n",
      "conv1_zeropadding (ZeroPadding2 (None, 506, 506, 3)  0           data[0][0]                       \n",
      "__________________________________________________________________________________________________\n",
      "conv1 (Conv2D)                  (None, 250, 250, 64) 9408        conv1_zeropadding[0][0]          \n",
      "__________________________________________________________________________________________________\n",
      "conv1_bn (BatchNormalization)   (None, 250, 250, 64) 256         conv1[0][0]                      \n",
      "__________________________________________________________________________________________________\n",
      "conv1_scale (Scale)             (None, 250, 250, 64) 128         conv1_bn[0][0]                   \n",
      "__________________________________________________________________________________________________\n",
      "relu1 (Activation)              (None, 250, 250, 64) 0           conv1_scale[0][0]                \n",
      "__________________________________________________________________________________________________\n",
      "pool1_zeropadding (ZeroPadding2 (None, 252, 252, 64) 0           relu1[0][0]                      \n",
      "__________________________________________________________________________________________________\n",
      "pool1 (MaxPooling2D)            (None, 125, 125, 64) 0           pool1_zeropadding[0][0]          \n",
      "__________________________________________________________________________________________________\n",
      "conv2_1_x1_bn (BatchNormalizati (None, 125, 125, 64) 256         pool1[0][0]                      \n",
      "__________________________________________________________________________________________________\n",
      "conv2_1_x1_scale (Scale)        (None, 125, 125, 64) 128         conv2_1_x1_bn[0][0]              \n",
      "__________________________________________________________________________________________________\n",
      "relu2_1_x1 (Activation)         (None, 125, 125, 64) 0           conv2_1_x1_scale[0][0]           \n",
      "__________________________________________________________________________________________________\n",
      "conv2_1_x1 (Conv2D)             (None, 125, 125, 128 8192        relu2_1_x1[0][0]                 \n",
      "__________________________________________________________________________________________________\n",
      "conv2_1_x2_bn (BatchNormalizati (None, 125, 125, 128 512         conv2_1_x1[0][0]                 \n",
      "__________________________________________________________________________________________________\n",
      "conv2_1_x2_scale (Scale)        (None, 125, 125, 128 256         conv2_1_x2_bn[0][0]              \n",
      "__________________________________________________________________________________________________\n",
      "relu2_1_x2 (Activation)         (None, 125, 125, 128 0           conv2_1_x2_scale[0][0]           \n",
      "__________________________________________________________________________________________________\n",
      "conv2_1_x2_zeropadding (ZeroPad (None, 127, 127, 128 0           relu2_1_x2[0][0]                 \n",
      "__________________________________________________________________________________________________\n",
      "conv2_1_x2 (Conv2D)             (None, 125, 125, 32) 36864       conv2_1_x2_zeropadding[0][0]     \n",
      "__________________________________________________________________________________________________\n",
      "concat_2_1 (Concatenate)        (None, 125, 125, 96) 0           pool1[0][0]                      \n",
      "                                                                 conv2_1_x2[0][0]                 \n",
      "__________________________________________________________________________________________________\n",
      "conv2_2_x1_bn (BatchNormalizati (None, 125, 125, 96) 384         concat_2_1[0][0]                 \n",
      "__________________________________________________________________________________________________\n",
      "conv2_2_x1_scale (Scale)        (None, 125, 125, 96) 192         conv2_2_x1_bn[0][0]              \n",
      "__________________________________________________________________________________________________\n",
      "relu2_2_x1 (Activation)         (None, 125, 125, 96) 0           conv2_2_x1_scale[0][0]           \n",
      "__________________________________________________________________________________________________\n",
      "conv2_2_x1 (Conv2D)             (None, 125, 125, 128 12288       relu2_2_x1[0][0]                 \n",
      "__________________________________________________________________________________________________\n",
      "conv2_2_x2_bn (BatchNormalizati (None, 125, 125, 128 512         conv2_2_x1[0][0]                 \n",
      "__________________________________________________________________________________________________\n",
      "conv2_2_x2_scale (Scale)        (None, 125, 125, 128 256         conv2_2_x2_bn[0][0]              \n",
      "__________________________________________________________________________________________________\n",
      "relu2_2_x2 (Activation)         (None, 125, 125, 128 0           conv2_2_x2_scale[0][0]           \n",
      "__________________________________________________________________________________________________\n",
      "conv2_2_x2_zeropadding (ZeroPad (None, 127, 127, 128 0           relu2_2_x2[0][0]                 \n",
      "__________________________________________________________________________________________________\n",
      "conv2_2_x2 (Conv2D)             (None, 125, 125, 32) 36864       conv2_2_x2_zeropadding[0][0]     \n",
      "__________________________________________________________________________________________________\n",
      "concat_2_2 (Concatenate)        (None, 125, 125, 128 0           concat_2_1[0][0]                 \n",
      "                                                                 conv2_2_x2[0][0]                 \n",
      "__________________________________________________________________________________________________\n",
      "conv2_blk_bn (BatchNormalizatio (None, 125, 125, 128 512         concat_2_2[0][0]                 \n",
      "__________________________________________________________________________________________________\n",
      "conv2_blk_scale (Scale)         (None, 125, 125, 128 256         conv2_blk_bn[0][0]               \n",
      "__________________________________________________________________________________________________\n",
      "relu2_blk (Activation)          (None, 125, 125, 128 0           conv2_blk_scale[0][0]            \n",
      "__________________________________________________________________________________________________\n",
      "conv2_blk (Conv2D)              (None, 125, 125, 128 16384       relu2_blk[0][0]                  \n",
      "__________________________________________________________________________________________________\n",
      "pool2 (AveragePooling2D)        (None, 62, 62, 128)  0           conv2_blk[0][0]                  \n",
      "__________________________________________________________________________________________________\n",
      "conv3_1_x1_bn (BatchNormalizati (None, 62, 62, 128)  512         pool2[0][0]                      \n",
      "__________________________________________________________________________________________________\n",
      "conv3_1_x1_scale (Scale)        (None, 62, 62, 128)  256         conv3_1_x1_bn[0][0]              \n",
      "__________________________________________________________________________________________________\n",
      "relu3_1_x1 (Activation)         (None, 62, 62, 128)  0           conv3_1_x1_scale[0][0]           \n",
      "__________________________________________________________________________________________________\n",
      "conv3_1_x1 (Conv2D)             (None, 62, 62, 128)  16384       relu3_1_x1[0][0]                 \n",
      "__________________________________________________________________________________________________\n",
      "conv3_1_x2_bn (BatchNormalizati (None, 62, 62, 128)  512         conv3_1_x1[0][0]                 \n",
      "__________________________________________________________________________________________________\n",
      "conv3_1_x2_scale (Scale)        (None, 62, 62, 128)  256         conv3_1_x2_bn[0][0]              \n",
      "__________________________________________________________________________________________________\n",
      "relu3_1_x2 (Activation)         (None, 62, 62, 128)  0           conv3_1_x2_scale[0][0]           \n",
      "__________________________________________________________________________________________________\n",
      "conv3_1_x2_zeropadding (ZeroPad (None, 64, 64, 128)  0           relu3_1_x2[0][0]                 \n",
      "__________________________________________________________________________________________________\n",
      "conv3_1_x2 (Conv2D)             (None, 62, 62, 32)   36864       conv3_1_x2_zeropadding[0][0]     \n",
      "__________________________________________________________________________________________________\n",
      "concat_3_1 (Concatenate)        (None, 62, 62, 160)  0           pool2[0][0]                      \n",
      "                                                                 conv3_1_x2[0][0]                 \n",
      "__________________________________________________________________________________________________\n",
      "conv3_2_x1_bn (BatchNormalizati (None, 62, 62, 160)  640         concat_3_1[0][0]                 \n",
      "__________________________________________________________________________________________________\n",
      "conv3_2_x1_scale (Scale)        (None, 62, 62, 160)  320         conv3_2_x1_bn[0][0]              \n",
      "__________________________________________________________________________________________________\n",
      "relu3_2_x1 (Activation)         (None, 62, 62, 160)  0           conv3_2_x1_scale[0][0]           \n",
      "__________________________________________________________________________________________________\n",
      "conv3_2_x1 (Conv2D)             (None, 62, 62, 128)  20480       relu3_2_x1[0][0]                 \n",
      "__________________________________________________________________________________________________\n",
      "conv3_2_x2_bn (BatchNormalizati (None, 62, 62, 128)  512         conv3_2_x1[0][0]                 \n",
      "__________________________________________________________________________________________________\n",
      "conv3_2_x2_scale (Scale)        (None, 62, 62, 128)  256         conv3_2_x2_bn[0][0]              \n",
      "__________________________________________________________________________________________________\n",
      "relu3_2_x2 (Activation)         (None, 62, 62, 128)  0           conv3_2_x2_scale[0][0]           \n",
      "__________________________________________________________________________________________________\n",
      "conv3_2_x2_zeropadding (ZeroPad (None, 64, 64, 128)  0           relu3_2_x2[0][0]                 \n",
      "__________________________________________________________________________________________________\n",
      "conv3_2_x2 (Conv2D)             (None, 62, 62, 32)   36864       conv3_2_x2_zeropadding[0][0]     \n",
      "__________________________________________________________________________________________________\n",
      "concat_3_2 (Concatenate)        (None, 62, 62, 192)  0           concat_3_1[0][0]                 \n",
      "                                                                 conv3_2_x2[0][0]                 \n",
      "__________________________________________________________________________________________________\n",
      "conv3_3_x1_bn (BatchNormalizati (None, 62, 62, 192)  768         concat_3_2[0][0]                 \n",
      "__________________________________________________________________________________________________\n",
      "conv3_3_x1_scale (Scale)        (None, 62, 62, 192)  384         conv3_3_x1_bn[0][0]              \n",
      "__________________________________________________________________________________________________\n",
      "relu3_3_x1 (Activation)         (None, 62, 62, 192)  0           conv3_3_x1_scale[0][0]           \n",
      "__________________________________________________________________________________________________\n",
      "conv3_3_x1 (Conv2D)             (None, 62, 62, 128)  24576       relu3_3_x1[0][0]                 \n",
      "__________________________________________________________________________________________________\n",
      "conv3_3_x2_bn (BatchNormalizati (None, 62, 62, 128)  512         conv3_3_x1[0][0]                 \n",
      "__________________________________________________________________________________________________\n",
      "conv3_3_x2_scale (Scale)        (None, 62, 62, 128)  256         conv3_3_x2_bn[0][0]              \n",
      "__________________________________________________________________________________________________\n",
      "relu3_3_x2 (Activation)         (None, 62, 62, 128)  0           conv3_3_x2_scale[0][0]           \n",
      "__________________________________________________________________________________________________\n",
      "conv3_3_x2_zeropadding (ZeroPad (None, 64, 64, 128)  0           relu3_3_x2[0][0]                 \n",
      "__________________________________________________________________________________________________\n",
      "conv3_3_x2 (Conv2D)             (None, 62, 62, 32)   36864       conv3_3_x2_zeropadding[0][0]     \n",
      "__________________________________________________________________________________________________\n",
      "concat_3_3 (Concatenate)        (None, 62, 62, 224)  0           concat_3_2[0][0]                 \n",
      "                                                                 conv3_3_x2[0][0]                 \n",
      "__________________________________________________________________________________________________\n",
      "conv3_blk_bn (BatchNormalizatio (None, 62, 62, 224)  896         concat_3_3[0][0]                 \n",
      "__________________________________________________________________________________________________\n",
      "conv3_blk_scale (Scale)         (None, 62, 62, 224)  448         conv3_blk_bn[0][0]               \n",
      "__________________________________________________________________________________________________\n",
      "relu3_blk (Activation)          (None, 62, 62, 224)  0           conv3_blk_scale[0][0]            \n",
      "__________________________________________________________________________________________________\n",
      "conv3_blk (Conv2D)              (None, 62, 62, 224)  50176       relu3_blk[0][0]                  \n",
      "__________________________________________________________________________________________________\n",
      "pool3 (AveragePooling2D)        (None, 31, 31, 224)  0           conv3_blk[0][0]                  \n",
      "__________________________________________________________________________________________________\n",
      "conv4_1_x1_bn (BatchNormalizati (None, 31, 31, 224)  896         pool3[0][0]                      \n",
      "__________________________________________________________________________________________________\n",
      "conv4_1_x1_scale (Scale)        (None, 31, 31, 224)  448         conv4_1_x1_bn[0][0]              \n",
      "__________________________________________________________________________________________________\n",
      "relu4_1_x1 (Activation)         (None, 31, 31, 224)  0           conv4_1_x1_scale[0][0]           \n",
      "__________________________________________________________________________________________________\n",
      "conv4_1_x1 (Conv2D)             (None, 31, 31, 128)  28672       relu4_1_x1[0][0]                 \n",
      "__________________________________________________________________________________________________\n",
      "conv4_1_x2_bn (BatchNormalizati (None, 31, 31, 128)  512         conv4_1_x1[0][0]                 \n",
      "__________________________________________________________________________________________________\n",
      "conv4_1_x2_scale (Scale)        (None, 31, 31, 128)  256         conv4_1_x2_bn[0][0]              \n",
      "__________________________________________________________________________________________________\n",
      "relu4_1_x2 (Activation)         (None, 31, 31, 128)  0           conv4_1_x2_scale[0][0]           \n",
      "__________________________________________________________________________________________________\n",
      "conv4_1_x2_zeropadding (ZeroPad (None, 33, 33, 128)  0           relu4_1_x2[0][0]                 \n",
      "__________________________________________________________________________________________________\n",
      "conv4_1_x2 (Conv2D)             (None, 31, 31, 32)   36864       conv4_1_x2_zeropadding[0][0]     \n",
      "__________________________________________________________________________________________________\n",
      "concat_4_1 (Concatenate)        (None, 31, 31, 256)  0           pool3[0][0]                      \n",
      "                                                                 conv4_1_x2[0][0]                 \n",
      "__________________________________________________________________________________________________\n",
      "conv4_2_x1_bn (BatchNormalizati (None, 31, 31, 256)  1024        concat_4_1[0][0]                 \n",
      "__________________________________________________________________________________________________\n",
      "conv4_2_x1_scale (Scale)        (None, 31, 31, 256)  512         conv4_2_x1_bn[0][0]              \n",
      "__________________________________________________________________________________________________\n",
      "relu4_2_x1 (Activation)         (None, 31, 31, 256)  0           conv4_2_x1_scale[0][0]           \n",
      "__________________________________________________________________________________________________\n",
      "conv4_2_x1 (Conv2D)             (None, 31, 31, 128)  32768       relu4_2_x1[0][0]                 \n",
      "__________________________________________________________________________________________________\n",
      "conv4_2_x2_bn (BatchNormalizati (None, 31, 31, 128)  512         conv4_2_x1[0][0]                 \n",
      "__________________________________________________________________________________________________\n",
      "conv4_2_x2_scale (Scale)        (None, 31, 31, 128)  256         conv4_2_x2_bn[0][0]              \n",
      "__________________________________________________________________________________________________\n",
      "relu4_2_x2 (Activation)         (None, 31, 31, 128)  0           conv4_2_x2_scale[0][0]           \n",
      "__________________________________________________________________________________________________\n",
      "conv4_2_x2_zeropadding (ZeroPad (None, 33, 33, 128)  0           relu4_2_x2[0][0]                 \n",
      "__________________________________________________________________________________________________\n",
      "conv4_2_x2 (Conv2D)             (None, 31, 31, 32)   36864       conv4_2_x2_zeropadding[0][0]     \n",
      "__________________________________________________________________________________________________\n",
      "concat_4_2 (Concatenate)        (None, 31, 31, 288)  0           concat_4_1[0][0]                 \n",
      "                                                                 conv4_2_x2[0][0]                 \n",
      "__________________________________________________________________________________________________\n",
      "conv4_3_x1_bn (BatchNormalizati (None, 31, 31, 288)  1152        concat_4_2[0][0]                 \n",
      "__________________________________________________________________________________________________\n",
      "conv4_3_x1_scale (Scale)        (None, 31, 31, 288)  576         conv4_3_x1_bn[0][0]              \n",
      "__________________________________________________________________________________________________\n",
      "relu4_3_x1 (Activation)         (None, 31, 31, 288)  0           conv4_3_x1_scale[0][0]           \n",
      "__________________________________________________________________________________________________\n",
      "conv4_3_x1 (Conv2D)             (None, 31, 31, 128)  36864       relu4_3_x1[0][0]                 \n",
      "__________________________________________________________________________________________________\n",
      "conv4_3_x2_bn (BatchNormalizati (None, 31, 31, 128)  512         conv4_3_x1[0][0]                 \n",
      "__________________________________________________________________________________________________\n",
      "conv4_3_x2_scale (Scale)        (None, 31, 31, 128)  256         conv4_3_x2_bn[0][0]              \n",
      "__________________________________________________________________________________________________\n",
      "relu4_3_x2 (Activation)         (None, 31, 31, 128)  0           conv4_3_x2_scale[0][0]           \n",
      "__________________________________________________________________________________________________\n",
      "conv4_3_x2_zeropadding (ZeroPad (None, 33, 33, 128)  0           relu4_3_x2[0][0]                 \n",
      "__________________________________________________________________________________________________\n",
      "conv4_3_x2 (Conv2D)             (None, 31, 31, 32)   36864       conv4_3_x2_zeropadding[0][0]     \n",
      "__________________________________________________________________________________________________\n",
      "concat_4_3 (Concatenate)        (None, 31, 31, 320)  0           concat_4_2[0][0]                 \n",
      "                                                                 conv4_3_x2[0][0]                 \n",
      "__________________________________________________________________________________________________\n",
      "conv4_4_x1_bn (BatchNormalizati (None, 31, 31, 320)  1280        concat_4_3[0][0]                 \n",
      "__________________________________________________________________________________________________\n",
      "conv4_4_x1_scale (Scale)        (None, 31, 31, 320)  640         conv4_4_x1_bn[0][0]              \n",
      "__________________________________________________________________________________________________\n",
      "relu4_4_x1 (Activation)         (None, 31, 31, 320)  0           conv4_4_x1_scale[0][0]           \n",
      "__________________________________________________________________________________________________\n",
      "conv4_4_x1 (Conv2D)             (None, 31, 31, 128)  40960       relu4_4_x1[0][0]                 \n",
      "__________________________________________________________________________________________________\n",
      "conv4_4_x2_bn (BatchNormalizati (None, 31, 31, 128)  512         conv4_4_x1[0][0]                 \n",
      "__________________________________________________________________________________________________\n",
      "conv4_4_x2_scale (Scale)        (None, 31, 31, 128)  256         conv4_4_x2_bn[0][0]              \n",
      "__________________________________________________________________________________________________\n",
      "relu4_4_x2 (Activation)         (None, 31, 31, 128)  0           conv4_4_x2_scale[0][0]           \n",
      "__________________________________________________________________________________________________\n",
      "conv4_4_x2_zeropadding (ZeroPad (None, 33, 33, 128)  0           relu4_4_x2[0][0]                 \n",
      "__________________________________________________________________________________________________\n",
      "conv4_4_x2 (Conv2D)             (None, 31, 31, 32)   36864       conv4_4_x2_zeropadding[0][0]     \n",
      "__________________________________________________________________________________________________\n",
      "concat_4_4 (Concatenate)        (None, 31, 31, 352)  0           concat_4_3[0][0]                 \n",
      "                                                                 conv4_4_x2[0][0]                 \n",
      "__________________________________________________________________________________________________\n",
      "conv4_5_x1_bn (BatchNormalizati (None, 31, 31, 352)  1408        concat_4_4[0][0]                 \n",
      "__________________________________________________________________________________________________\n",
      "conv4_5_x1_scale (Scale)        (None, 31, 31, 352)  704         conv4_5_x1_bn[0][0]              \n",
      "__________________________________________________________________________________________________\n",
      "relu4_5_x1 (Activation)         (None, 31, 31, 352)  0           conv4_5_x1_scale[0][0]           \n",
      "__________________________________________________________________________________________________\n",
      "conv4_5_x1 (Conv2D)             (None, 31, 31, 128)  45056       relu4_5_x1[0][0]                 \n",
      "__________________________________________________________________________________________________\n",
      "conv4_5_x2_bn (BatchNormalizati (None, 31, 31, 128)  512         conv4_5_x1[0][0]                 \n",
      "__________________________________________________________________________________________________\n",
      "conv4_5_x2_scale (Scale)        (None, 31, 31, 128)  256         conv4_5_x2_bn[0][0]              \n",
      "__________________________________________________________________________________________________\n",
      "relu4_5_x2 (Activation)         (None, 31, 31, 128)  0           conv4_5_x2_scale[0][0]           \n",
      "__________________________________________________________________________________________________\n",
      "conv4_5_x2_zeropadding (ZeroPad (None, 33, 33, 128)  0           relu4_5_x2[0][0]                 \n",
      "__________________________________________________________________________________________________\n",
      "conv4_5_x2 (Conv2D)             (None, 31, 31, 32)   36864       conv4_5_x2_zeropadding[0][0]     \n",
      "__________________________________________________________________________________________________\n",
      "concat_4_5 (Concatenate)        (None, 31, 31, 384)  0           concat_4_4[0][0]                 \n",
      "                                                                 conv4_5_x2[0][0]                 \n",
      "__________________________________________________________________________________________________\n",
      "conv4_6_x1_bn (BatchNormalizati (None, 31, 31, 384)  1536        concat_4_5[0][0]                 \n",
      "__________________________________________________________________________________________________\n",
      "conv4_6_x1_scale (Scale)        (None, 31, 31, 384)  768         conv4_6_x1_bn[0][0]              \n",
      "__________________________________________________________________________________________________\n",
      "relu4_6_x1 (Activation)         (None, 31, 31, 384)  0           conv4_6_x1_scale[0][0]           \n",
      "__________________________________________________________________________________________________\n",
      "conv4_6_x1 (Conv2D)             (None, 31, 31, 128)  49152       relu4_6_x1[0][0]                 \n",
      "__________________________________________________________________________________________________\n",
      "conv4_6_x2_bn (BatchNormalizati (None, 31, 31, 128)  512         conv4_6_x1[0][0]                 \n",
      "__________________________________________________________________________________________________\n",
      "conv4_6_x2_scale (Scale)        (None, 31, 31, 128)  256         conv4_6_x2_bn[0][0]              \n",
      "__________________________________________________________________________________________________\n",
      "relu4_6_x2 (Activation)         (None, 31, 31, 128)  0           conv4_6_x2_scale[0][0]           \n",
      "__________________________________________________________________________________________________\n",
      "conv4_6_x2_zeropadding (ZeroPad (None, 33, 33, 128)  0           relu4_6_x2[0][0]                 \n",
      "__________________________________________________________________________________________________\n",
      "conv4_6_x2 (Conv2D)             (None, 31, 31, 32)   36864       conv4_6_x2_zeropadding[0][0]     \n",
      "__________________________________________________________________________________________________\n",
      "concat_4_6 (Concatenate)        (None, 31, 31, 416)  0           concat_4_5[0][0]                 \n",
      "                                                                 conv4_6_x2[0][0]                 \n",
      "__________________________________________________________________________________________________\n",
      "conv4_blk_bn (BatchNormalizatio (None, 31, 31, 416)  1664        concat_4_6[0][0]                 \n",
      "__________________________________________________________________________________________________\n",
      "conv4_blk_scale (Scale)         (None, 31, 31, 416)  832         conv4_blk_bn[0][0]               \n",
      "__________________________________________________________________________________________________\n",
      "relu4_blk (Activation)          (None, 31, 31, 416)  0           conv4_blk_scale[0][0]            \n",
      "__________________________________________________________________________________________________\n",
      "conv4_blk (Conv2D)              (None, 31, 31, 416)  173056      relu4_blk[0][0]                  \n",
      "__________________________________________________________________________________________________\n",
      "pool4 (AveragePooling2D)        (None, 15, 15, 416)  0           conv4_blk[0][0]                  \n",
      "__________________________________________________________________________________________________\n",
      "conv5_1_x1_bn (BatchNormalizati (None, 15, 15, 416)  1664        pool4[0][0]                      \n",
      "__________________________________________________________________________________________________\n",
      "conv5_1_x1_scale (Scale)        (None, 15, 15, 416)  832         conv5_1_x1_bn[0][0]              \n",
      "__________________________________________________________________________________________________\n",
      "relu5_1_x1 (Activation)         (None, 15, 15, 416)  0           conv5_1_x1_scale[0][0]           \n",
      "__________________________________________________________________________________________________\n",
      "conv5_1_x1 (Conv2D)             (None, 15, 15, 128)  53248       relu5_1_x1[0][0]                 \n",
      "__________________________________________________________________________________________________\n",
      "conv5_1_x2_bn (BatchNormalizati (None, 15, 15, 128)  512         conv5_1_x1[0][0]                 \n",
      "__________________________________________________________________________________________________\n",
      "conv5_1_x2_scale (Scale)        (None, 15, 15, 128)  256         conv5_1_x2_bn[0][0]              \n",
      "__________________________________________________________________________________________________\n",
      "relu5_1_x2 (Activation)         (None, 15, 15, 128)  0           conv5_1_x2_scale[0][0]           \n",
      "__________________________________________________________________________________________________\n",
      "conv5_1_x2_zeropadding (ZeroPad (None, 17, 17, 128)  0           relu5_1_x2[0][0]                 \n",
      "__________________________________________________________________________________________________\n",
      "conv5_1_x2 (Conv2D)             (None, 15, 15, 32)   36864       conv5_1_x2_zeropadding[0][0]     \n",
      "__________________________________________________________________________________________________\n",
      "concat_5_1 (Concatenate)        (None, 15, 15, 448)  0           pool4[0][0]                      \n",
      "                                                                 conv5_1_x2[0][0]                 \n",
      "__________________________________________________________________________________________________\n",
      "conv5_2_x1_bn (BatchNormalizati (None, 15, 15, 448)  1792        concat_5_1[0][0]                 \n",
      "__________________________________________________________________________________________________\n",
      "conv5_2_x1_scale (Scale)        (None, 15, 15, 448)  896         conv5_2_x1_bn[0][0]              \n",
      "__________________________________________________________________________________________________\n",
      "relu5_2_x1 (Activation)         (None, 15, 15, 448)  0           conv5_2_x1_scale[0][0]           \n",
      "__________________________________________________________________________________________________\n",
      "conv5_2_x1 (Conv2D)             (None, 15, 15, 128)  57344       relu5_2_x1[0][0]                 \n",
      "__________________________________________________________________________________________________\n",
      "conv5_2_x2_bn (BatchNormalizati (None, 15, 15, 128)  512         conv5_2_x1[0][0]                 \n",
      "__________________________________________________________________________________________________\n",
      "conv5_2_x2_scale (Scale)        (None, 15, 15, 128)  256         conv5_2_x2_bn[0][0]              \n",
      "__________________________________________________________________________________________________\n",
      "relu5_2_x2 (Activation)         (None, 15, 15, 128)  0           conv5_2_x2_scale[0][0]           \n",
      "__________________________________________________________________________________________________\n",
      "conv5_2_x2_zeropadding (ZeroPad (None, 17, 17, 128)  0           relu5_2_x2[0][0]                 \n",
      "__________________________________________________________________________________________________\n",
      "conv5_2_x2 (Conv2D)             (None, 15, 15, 32)   36864       conv5_2_x2_zeropadding[0][0]     \n",
      "__________________________________________________________________________________________________\n",
      "concat_5_2 (Concatenate)        (None, 15, 15, 480)  0           concat_5_1[0][0]                 \n",
      "                                                                 conv5_2_x2[0][0]                 \n",
      "__________________________________________________________________________________________________\n",
      "conv5_3_x1_bn (BatchNormalizati (None, 15, 15, 480)  1920        concat_5_2[0][0]                 \n",
      "__________________________________________________________________________________________________\n",
      "conv5_3_x1_scale (Scale)        (None, 15, 15, 480)  960         conv5_3_x1_bn[0][0]              \n",
      "__________________________________________________________________________________________________\n",
      "relu5_3_x1 (Activation)         (None, 15, 15, 480)  0           conv5_3_x1_scale[0][0]           \n",
      "__________________________________________________________________________________________________\n",
      "conv5_3_x1 (Conv2D)             (None, 15, 15, 128)  61440       relu5_3_x1[0][0]                 \n",
      "__________________________________________________________________________________________________\n",
      "conv5_3_x2_bn (BatchNormalizati (None, 15, 15, 128)  512         conv5_3_x1[0][0]                 \n",
      "__________________________________________________________________________________________________\n",
      "conv5_3_x2_scale (Scale)        (None, 15, 15, 128)  256         conv5_3_x2_bn[0][0]              \n",
      "__________________________________________________________________________________________________\n",
      "relu5_3_x2 (Activation)         (None, 15, 15, 128)  0           conv5_3_x2_scale[0][0]           \n",
      "__________________________________________________________________________________________________\n",
      "conv5_3_x2_zeropadding (ZeroPad (None, 17, 17, 128)  0           relu5_3_x2[0][0]                 \n",
      "__________________________________________________________________________________________________\n",
      "conv5_3_x2 (Conv2D)             (None, 15, 15, 32)   36864       conv5_3_x2_zeropadding[0][0]     \n",
      "__________________________________________________________________________________________________\n",
      "concat_5_3 (Concatenate)        (None, 15, 15, 512)  0           concat_5_2[0][0]                 \n",
      "                                                                 conv5_3_x2[0][0]                 \n",
      "__________________________________________________________________________________________________\n",
      "conv5_4_x1_bn (BatchNormalizati (None, 15, 15, 512)  2048        concat_5_3[0][0]                 \n",
      "__________________________________________________________________________________________________\n",
      "conv5_4_x1_scale (Scale)        (None, 15, 15, 512)  1024        conv5_4_x1_bn[0][0]              \n",
      "__________________________________________________________________________________________________\n",
      "relu5_4_x1 (Activation)         (None, 15, 15, 512)  0           conv5_4_x1_scale[0][0]           \n",
      "__________________________________________________________________________________________________\n",
      "conv5_4_x1 (Conv2D)             (None, 15, 15, 128)  65536       relu5_4_x1[0][0]                 \n",
      "__________________________________________________________________________________________________\n",
      "conv5_4_x2_bn (BatchNormalizati (None, 15, 15, 128)  512         conv5_4_x1[0][0]                 \n",
      "__________________________________________________________________________________________________\n",
      "conv5_4_x2_scale (Scale)        (None, 15, 15, 128)  256         conv5_4_x2_bn[0][0]              \n",
      "__________________________________________________________________________________________________\n",
      "relu5_4_x2 (Activation)         (None, 15, 15, 128)  0           conv5_4_x2_scale[0][0]           \n",
      "__________________________________________________________________________________________________\n",
      "conv5_4_x2_zeropadding (ZeroPad (None, 17, 17, 128)  0           relu5_4_x2[0][0]                 \n",
      "__________________________________________________________________________________________________\n",
      "conv5_4_x2 (Conv2D)             (None, 15, 15, 32)   36864       conv5_4_x2_zeropadding[0][0]     \n",
      "__________________________________________________________________________________________________\n",
      "concat_5_4 (Concatenate)        (None, 15, 15, 544)  0           concat_5_3[0][0]                 \n",
      "                                                                 conv5_4_x2[0][0]                 \n",
      "__________________________________________________________________________________________________\n",
      "conv5_blk_bn (BatchNormalizatio (None, 15, 15, 544)  2176        concat_5_4[0][0]                 \n",
      "__________________________________________________________________________________________________\n",
      "conv5_blk_scale (Scale)         (None, 15, 15, 544)  1088        conv5_blk_bn[0][0]               \n",
      "__________________________________________________________________________________________________\n",
      "relu5_blk (Activation)          (None, 15, 15, 544)  0           conv5_blk_scale[0][0]            \n",
      "__________________________________________________________________________________________________\n",
      "pool5_blk (GlobalAveragePooling (None, 544)          0           relu5_blk[0][0]                  \n",
      "__________________________________________________________________________________________________\n",
      "fc6 (Dense)                     (None, 102)          55590       pool5_blk[0][0]                  \n",
      "__________________________________________________________________________________________________\n",
      "prob (Activation)               (None, 102)          0           fc6[0][0]                        \n",
      "==================================================================================================\n",
      "Total params: 1,456,230\n",
      "Trainable params: 1,440,998\n",
      "Non-trainable params: 15,232\n",
      "__________________________________________________________________________________________________\n"
     ]
    }
   ],
   "source": [
    "DenseNetModel = DenseNet(classes=102)"
   ]
  },
  {
   "cell_type": "code",
   "execution_count": 18,
   "metadata": {},
   "outputs": [
    {
     "name": "stdout",
     "output_type": "stream",
     "text": [
      "WARNING:tensorflow:`period` argument is deprecated. Please use `save_freq` to specify the frequency in number of samples seen.\n"
     ]
    }
   ],
   "source": [
    "lr_fn = tf.optimizers.schedules.PiecewiseConstantDecay([100, 150, 200], [0.1, 0.05, 0.005, 0.0005])\n",
    "DenseNetModel.compile(optimizer= tf.optimizers.Adam(0.0001), loss='categorical_crossentropy', \n",
    "                      metrics=['accuracy', tf.keras.metrics.Precision(), tf.keras.metrics.Recall()])\n",
    "\n",
    "log_dir=\"logs/fit/\" + datetime.datetime.now().strftime(\"%Y%m%d-%H%M%S\")\n",
    "checkpoint_path = \"training01/cp-{epoch:04d}.ckpt\"\n",
    "checkpoint_dir = os.path.dirname(checkpoint_path)\n",
    "cp_callback = tf.keras.callbacks.ModelCheckpoint(\n",
    "    filepath=checkpoint_path, \n",
    "    verbose=1, \n",
    "    save_weights_only=True,\n",
    "    period=1)\n",
    "DenseNetModel.save_weights(checkpoint_path.format(epoch=0))\n",
    "class mycallback(tf.keras.callbacks.Callback):\n",
    "    def on_epoch_end(self, epoch, logs={}):\n",
    "        if (logs.get('accuracy')>.95):\n",
    "            print(\"\\nReached 95% accuracy!\")\n",
    "            self.model.stop_training = True\n",
    "\n",
    "myCallback = mycallback()\n",
    "\n",
    "callbacks = [tf.keras.callbacks.EarlyStopping(monitor='val_loss', patience=5),\n",
    "             tf.keras.callbacks.TensorBoard(log_dir=log_dir, histogram_freq=1), cp_callback, myCallback]"
   ]
  },
  {
   "cell_type": "code",
   "execution_count": 15,
   "metadata": {},
   "outputs": [
    {
     "data": {
      "text/plain": [
       "'/input/training01/training01/cp-{epoch:04d}.ckpt'"
      ]
     },
     "execution_count": 15,
     "metadata": {},
     "output_type": "execute_result"
    }
   ],
   "source": [
    "'/input/training01/'+checkpoint_path"
   ]
  },
  {
   "cell_type": "code",
   "execution_count": 20,
   "metadata": {},
   "outputs": [
    {
     "data": {
      "text/plain": [
       "Reusing TensorBoard on port 6006 (pid 13961), started 1:46:44 ago. (Use '!kill 13961' to kill it.)"
      ]
     },
     "metadata": {},
     "output_type": "display_data"
    },
    {
     "data": {
      "text/html": [
       "\n",
       "      <iframe id=\"tensorboard-frame-dcd284061471980e\" width=\"100%\" height=\"800\" frameborder=\"0\">\n",
       "      </iframe>\n",
       "      <script>\n",
       "        (function() {\n",
       "          const frame = document.getElementById(\"tensorboard-frame-dcd284061471980e\");\n",
       "          const url = new URL(\"/\", window.location);\n",
       "          url.port = 6006;\n",
       "          frame.src = url;\n",
       "        })();\n",
       "      </script>\n",
       "  "
      ],
      "text/plain": [
       "<IPython.core.display.HTML object>"
      ]
     },
     "metadata": {},
     "output_type": "display_data"
    }
   ],
   "source": [
    "%tensorboard --logdir logs/fit"
   ]
  },
  {
   "cell_type": "code",
   "execution_count": 19,
   "metadata": {},
   "outputs": [
    {
     "name": "stdout",
     "output_type": "stream",
     "text": [
      "/bin/sh: 1: kill: No such process\r\n",
      "\r\n"
     ]
    }
   ],
   "source": [
    "!kill 13961"
   ]
  },
  {
   "cell_type": "code",
   "execution_count": 21,
   "metadata": {
    "scrolled": false
   },
   "outputs": [
    {
     "name": "stdout",
     "output_type": "stream",
     "text": [
      "Epoch 1/50\n",
      "631/632 [============================>.] - ETA: 0s - loss: 2.8663 - accuracy: 0.3212 - precision_1: 0.7963 - recall_1: 0.0507\n",
      "Epoch 00001: saving model to training01/cp-0001.ckpt\n",
      "632/632 [==============================] - 551s 873ms/step - loss: 2.8664 - accuracy: 0.3210 - precision_1: 0.7950 - recall_1: 0.0506 - val_loss: 2.7803 - val_accuracy: 0.3088 - val_precision_1: 0.6833 - val_recall_1: 0.0904\n",
      "Epoch 2/50\n",
      "631/632 [============================>.] - ETA: 0s - loss: 2.5345 - accuracy: 0.3977 - precision_1: 0.8605 - recall_1: 0.0978\n",
      "Epoch 00002: saving model to training01/cp-0002.ckpt\n",
      "632/632 [==============================] - 565s 894ms/step - loss: 2.5343 - accuracy: 0.3976 - precision_1: 0.8599 - recall_1: 0.0977 - val_loss: 2.5688 - val_accuracy: 0.3743 - val_precision_1: 0.7463 - val_recall_1: 0.1493\n",
      "Epoch 3/50\n",
      "631/632 [============================>.] - ETA: 0s - loss: 2.3026 - accuracy: 0.4347 - precision_1: 0.8857 - recall_1: 0.1382\n",
      "Epoch 00003: saving model to training01/cp-0003.ckpt\n",
      "632/632 [==============================] - 552s 873ms/step - loss: 2.3030 - accuracy: 0.4345 - precision_1: 0.8858 - recall_1: 0.1381 - val_loss: 2.7011 - val_accuracy: 0.3375 - val_precision_1: 0.6888 - val_recall_1: 0.1449\n",
      "Epoch 4/50\n",
      "631/632 [============================>.] - ETA: 0s - loss: 2.1044 - accuracy: 0.4779 - precision_1: 0.8995 - recall_1: 0.1880\n",
      "Epoch 00004: saving model to training01/cp-0004.ckpt\n",
      "632/632 [==============================] - 549s 869ms/step - loss: 2.1038 - accuracy: 0.4782 - precision_1: 0.8994 - recall_1: 0.1884 - val_loss: 2.2457 - val_accuracy: 0.4397 - val_precision_1: 0.7743 - val_recall_1: 0.2574\n",
      "Epoch 5/50\n",
      "631/632 [============================>.] - ETA: 0s - loss: 1.9601 - accuracy: 0.5093 - precision_1: 0.8995 - recall_1: 0.2262\n",
      "Epoch 00005: saving model to training01/cp-0005.ckpt\n",
      "632/632 [==============================] - 551s 871ms/step - loss: 1.9586 - accuracy: 0.5098 - precision_1: 0.8995 - recall_1: 0.2265 - val_loss: 2.2485 - val_accuracy: 0.4316 - val_precision_1: 0.7763 - val_recall_1: 0.2500\n",
      "Epoch 6/50\n",
      "631/632 [============================>.] - ETA: 0s - loss: 1.7977 - accuracy: 0.5538 - precision_1: 0.9021 - recall_1: 0.2655\n",
      "Epoch 00006: saving model to training01/cp-0006.ckpt\n",
      "632/632 [==============================] - 551s 872ms/step - loss: 1.7972 - accuracy: 0.5539 - precision_1: 0.9017 - recall_1: 0.2658 - val_loss: 2.2368 - val_accuracy: 0.4610 - val_precision_1: 0.7375 - val_recall_1: 0.2809\n",
      "Epoch 7/50\n",
      "631/632 [============================>.] - ETA: 0s - loss: 1.6824 - accuracy: 0.5752 - precision_1: 0.9067 - recall_1: 0.3022\n",
      "Epoch 00007: saving model to training01/cp-0007.ckpt\n",
      "632/632 [==============================] - 551s 872ms/step - loss: 1.6827 - accuracy: 0.5751 - precision_1: 0.9066 - recall_1: 0.3023 - val_loss: 2.2830 - val_accuracy: 0.4596 - val_precision_1: 0.6904 - val_recall_1: 0.3066\n",
      "Epoch 8/50\n",
      "631/632 [============================>.] - ETA: 0s - loss: 1.5589 - accuracy: 0.6107 - precision_1: 0.9123 - recall_1: 0.3331\n",
      "Epoch 00008: saving model to training01/cp-0008.ckpt\n",
      "632/632 [==============================] - 550s 870ms/step - loss: 1.5589 - accuracy: 0.6108 - precision_1: 0.9123 - recall_1: 0.3332 - val_loss: 2.1713 - val_accuracy: 0.4706 - val_precision_1: 0.7296 - val_recall_1: 0.3096\n",
      "Epoch 9/50\n",
      "631/632 [============================>.] - ETA: 0s - loss: 1.4658 - accuracy: 0.6269 - precision_1: 0.9111 - recall_1: 0.3684\n",
      "Epoch 00009: saving model to training01/cp-0009.ckpt\n",
      "632/632 [==============================] - 551s 872ms/step - loss: 1.4655 - accuracy: 0.6270 - precision_1: 0.9112 - recall_1: 0.3685 - val_loss: 1.8606 - val_accuracy: 0.5397 - val_precision_1: 0.8113 - val_recall_1: 0.3603\n",
      "Epoch 10/50\n",
      "631/632 [============================>.] - ETA: 0s - loss: 1.3639 - accuracy: 0.6541 - precision_1: 0.9189 - recall_1: 0.4040\n",
      "Epoch 00010: saving model to training01/cp-0010.ckpt\n",
      "632/632 [==============================] - 551s 872ms/step - loss: 1.3629 - accuracy: 0.6544 - precision_1: 0.9191 - recall_1: 0.4045 - val_loss: 1.8636 - val_accuracy: 0.5390 - val_precision_1: 0.7953 - val_recall_1: 0.3772\n",
      "Epoch 11/50\n",
      "631/632 [============================>.] - ETA: 0s - loss: 1.2785 - accuracy: 0.6765 - precision_1: 0.9187 - recall_1: 0.4375\n",
      "Epoch 00011: saving model to training01/cp-0011.ckpt\n",
      "632/632 [==============================] - 550s 870ms/step - loss: 1.2781 - accuracy: 0.6765 - precision_1: 0.9186 - recall_1: 0.4377 - val_loss: 1.8186 - val_accuracy: 0.5471 - val_precision_1: 0.8182 - val_recall_1: 0.3772\n",
      "Epoch 12/50\n",
      "631/632 [============================>.] - ETA: 0s - loss: 1.1843 - accuracy: 0.6972 - precision_1: 0.9214 - recall_1: 0.4703\n",
      "Epoch 00012: saving model to training01/cp-0012.ckpt\n",
      "632/632 [==============================] - 552s 874ms/step - loss: 1.1838 - accuracy: 0.6974 - precision_1: 0.9213 - recall_1: 0.4704 - val_loss: 2.0713 - val_accuracy: 0.5074 - val_precision_1: 0.7064 - val_recall_1: 0.3485\n",
      "Epoch 13/50\n",
      "631/632 [============================>.] - ETA: 0s - loss: 1.1164 - accuracy: 0.7127 - precision_1: 0.9215 - recall_1: 0.4979\n",
      "Epoch 00013: saving model to training01/cp-0013.ckpt\n",
      "632/632 [==============================] - 552s 874ms/step - loss: 1.1162 - accuracy: 0.7127 - precision_1: 0.9213 - recall_1: 0.4979 - val_loss: 2.2144 - val_accuracy: 0.4699 - val_precision_1: 0.6542 - val_recall_1: 0.3588\n",
      "Epoch 14/50\n",
      "631/632 [============================>.] - ETA: 0s - loss: 1.0648 - accuracy: 0.7234 - precision_1: 0.9190 - recall_1: 0.5236\n",
      "Epoch 00014: saving model to training01/cp-0014.ckpt\n",
      "632/632 [==============================] - 553s 875ms/step - loss: 1.0649 - accuracy: 0.7235 - precision_1: 0.9191 - recall_1: 0.5238 - val_loss: 1.7506 - val_accuracy: 0.5522 - val_precision_1: 0.7800 - val_recall_1: 0.4015\n",
      "Epoch 15/50\n",
      "631/632 [============================>.] - ETA: 0s - loss: 0.9796 - accuracy: 0.7489 - precision_1: 0.9293 - recall_1: 0.5532\n",
      "Epoch 00015: saving model to training01/cp-0015.ckpt\n",
      "632/632 [==============================] - 543s 859ms/step - loss: 0.9805 - accuracy: 0.7486 - precision_1: 0.9293 - recall_1: 0.5527 - val_loss: 1.5498 - val_accuracy: 0.6279 - val_precision_1: 0.8125 - val_recall_1: 0.4971\n",
      "Epoch 16/50\n",
      "631/632 [============================>.] - ETA: 0s - loss: 0.9290 - accuracy: 0.7606 - precision_1: 0.9230 - recall_1: 0.5688\n",
      "Epoch 00016: saving model to training01/cp-0016.ckpt\n",
      "632/632 [==============================] - 549s 869ms/step - loss: 0.9286 - accuracy: 0.7606 - precision_1: 0.9231 - recall_1: 0.5689 - val_loss: 1.5107 - val_accuracy: 0.6140 - val_precision_1: 0.7979 - val_recall_1: 0.4993\n",
      "Epoch 17/50\n",
      "631/632 [============================>.] - ETA: 0s - loss: 0.8829 - accuracy: 0.7692 - precision_1: 0.9297 - recall_1: 0.5947\n",
      "Epoch 00017: saving model to training01/cp-0017.ckpt\n",
      "632/632 [==============================] - 547s 866ms/step - loss: 0.8830 - accuracy: 0.7691 - precision_1: 0.9298 - recall_1: 0.5946 - val_loss: 1.5198 - val_accuracy: 0.6309 - val_precision_1: 0.8297 - val_recall_1: 0.5051\n",
      "Epoch 18/50\n",
      "631/632 [============================>.] - ETA: 0s - loss: 0.8082 - accuracy: 0.7946 - precision_1: 0.9368 - recall_1: 0.6275\n",
      "Epoch 00018: saving model to training01/cp-0018.ckpt\n",
      "632/632 [==============================] - 545s 862ms/step - loss: 0.8084 - accuracy: 0.7948 - precision_1: 0.9368 - recall_1: 0.6275 - val_loss: 1.5087 - val_accuracy: 0.6301 - val_precision_1: 0.8298 - val_recall_1: 0.5125\n",
      "Epoch 19/50\n",
      "631/632 [============================>.] - ETA: 0s - loss: 0.7789 - accuracy: 0.7995 - precision_1: 0.9311 - recall_1: 0.6454\n",
      "Epoch 00019: saving model to training01/cp-0019.ckpt\n",
      "632/632 [==============================] - 546s 863ms/step - loss: 0.7792 - accuracy: 0.7995 - precision_1: 0.9312 - recall_1: 0.6454 - val_loss: 1.5199 - val_accuracy: 0.6287 - val_precision_1: 0.8043 - val_recall_1: 0.5228\n",
      "Epoch 20/50\n",
      "631/632 [============================>.] - ETA: 0s - loss: 0.7311 - accuracy: 0.8080 - precision_1: 0.9392 - recall_1: 0.6652\n",
      "Epoch 00020: saving model to training01/cp-0020.ckpt\n",
      "632/632 [==============================] - 548s 867ms/step - loss: 0.7316 - accuracy: 0.8078 - precision_1: 0.9390 - recall_1: 0.6651 - val_loss: 1.4835 - val_accuracy: 0.6390 - val_precision_1: 0.8027 - val_recall_1: 0.5235\n"
     ]
    },
    {
     "name": "stdout",
     "output_type": "stream",
     "text": [
      "Epoch 21/50\n",
      "631/632 [============================>.] - ETA: 0s - loss: 0.6922 - accuracy: 0.8195 - precision_1: 0.9391 - recall_1: 0.6801\n",
      "Epoch 00021: saving model to training01/cp-0021.ckpt\n",
      "632/632 [==============================] - 546s 864ms/step - loss: 0.6920 - accuracy: 0.8197 - precision_1: 0.9391 - recall_1: 0.6802 - val_loss: 1.5265 - val_accuracy: 0.6162 - val_precision_1: 0.7756 - val_recall_1: 0.5184\n",
      "Epoch 22/50\n",
      "631/632 [============================>.] - ETA: 0s - loss: 0.6501 - accuracy: 0.8269 - precision_1: 0.9402 - recall_1: 0.6997\n",
      "Epoch 00022: saving model to training01/cp-0022.ckpt\n",
      "632/632 [==============================] - 543s 858ms/step - loss: 0.6497 - accuracy: 0.8270 - precision_1: 0.9403 - recall_1: 0.7000 - val_loss: 1.3919 - val_accuracy: 0.6529 - val_precision_1: 0.8122 - val_recall_1: 0.5691\n",
      "Epoch 23/50\n",
      "631/632 [============================>.] - ETA: 0s - loss: 0.6208 - accuracy: 0.8385 - precision_1: 0.9394 - recall_1: 0.7142\n",
      "Epoch 00023: saving model to training01/cp-0023.ckpt\n",
      "632/632 [==============================] - 541s 856ms/step - loss: 0.6207 - accuracy: 0.8385 - precision_1: 0.9394 - recall_1: 0.7141 - val_loss: 1.3987 - val_accuracy: 0.6449 - val_precision_1: 0.7968 - val_recall_1: 0.5478\n",
      "Epoch 24/50\n",
      "631/632 [============================>.] - ETA: 0s - loss: 0.6003 - accuracy: 0.8453 - precision_1: 0.9470 - recall_1: 0.7289\n",
      "Epoch 00024: saving model to training01/cp-0024.ckpt\n",
      "632/632 [==============================] - 542s 858ms/step - loss: 0.6000 - accuracy: 0.8453 - precision_1: 0.9471 - recall_1: 0.7291 - val_loss: 1.4650 - val_accuracy: 0.6544 - val_precision_1: 0.7874 - val_recall_1: 0.5721\n",
      "Epoch 25/50\n",
      "631/632 [============================>.] - ETA: 0s - loss: 0.5369 - accuracy: 0.8616 - precision_1: 0.9484 - recall_1: 0.7537\n",
      "Epoch 00025: saving model to training01/cp-0025.ckpt\n",
      "632/632 [==============================] - 545s 863ms/step - loss: 0.5372 - accuracy: 0.8613 - precision_1: 0.9482 - recall_1: 0.7534 - val_loss: 1.3573 - val_accuracy: 0.6603 - val_precision_1: 0.7939 - val_recall_1: 0.5750\n",
      "Epoch 26/50\n",
      "631/632 [============================>.] - ETA: 0s - loss: 0.5212 - accuracy: 0.8655 - precision_1: 0.9485 - recall_1: 0.7607\n",
      "Epoch 00026: saving model to training01/cp-0026.ckpt\n",
      "632/632 [==============================] - 546s 863ms/step - loss: 0.5216 - accuracy: 0.8653 - precision_1: 0.9483 - recall_1: 0.7605 - val_loss: 1.3823 - val_accuracy: 0.6625 - val_precision_1: 0.7976 - val_recall_1: 0.5971\n",
      "Epoch 27/50\n",
      "631/632 [============================>.] - ETA: 0s - loss: 0.4790 - accuracy: 0.8768 - precision_1: 0.9492 - recall_1: 0.7814\n",
      "Epoch 00027: saving model to training01/cp-0027.ckpt\n",
      "632/632 [==============================] - 544s 861ms/step - loss: 0.4790 - accuracy: 0.8768 - precision_1: 0.9493 - recall_1: 0.7813 - val_loss: 1.5234 - val_accuracy: 0.6426 - val_precision_1: 0.7651 - val_recall_1: 0.5699\n",
      "Epoch 28/50\n",
      "631/632 [============================>.] - ETA: 0s - loss: 0.4791 - accuracy: 0.8797 - precision_1: 0.9486 - recall_1: 0.7847\n",
      "Epoch 00028: saving model to training01/cp-0028.ckpt\n",
      "632/632 [==============================] - 545s 862ms/step - loss: 0.4786 - accuracy: 0.8799 - precision_1: 0.9487 - recall_1: 0.7849 - val_loss: 1.4652 - val_accuracy: 0.6456 - val_precision_1: 0.7937 - val_recall_1: 0.5603\n",
      "Epoch 29/50\n",
      "631/632 [============================>.] - ETA: 0s - loss: 0.4445 - accuracy: 0.8817 - precision_1: 0.9530 - recall_1: 0.7999\n",
      "Epoch 00029: saving model to training01/cp-0029.ckpt\n",
      "632/632 [==============================] - 545s 863ms/step - loss: 0.4441 - accuracy: 0.8819 - precision_1: 0.9531 - recall_1: 0.8001 - val_loss: 1.6523 - val_accuracy: 0.6360 - val_precision_1: 0.7342 - val_recall_1: 0.5728\n",
      "Epoch 30/50\n",
      "631/632 [============================>.] - ETA: 0s - loss: 0.4178 - accuracy: 0.8928 - precision_1: 0.9548 - recall_1: 0.8125\n",
      "Epoch 00030: saving model to training01/cp-0030.ckpt\n",
      "632/632 [==============================] - 546s 863ms/step - loss: 0.4176 - accuracy: 0.8930 - precision_1: 0.9549 - recall_1: 0.8126 - val_loss: 1.2702 - val_accuracy: 0.6846 - val_precision_1: 0.7962 - val_recall_1: 0.6147\n",
      "Epoch 31/50\n",
      "631/632 [============================>.] - ETA: 0s - loss: 0.4138 - accuracy: 0.8912 - precision_1: 0.9525 - recall_1: 0.8152\n",
      "Epoch 00031: saving model to training01/cp-0031.ckpt\n",
      "632/632 [==============================] - 544s 861ms/step - loss: 0.4140 - accuracy: 0.8912 - precision_1: 0.9526 - recall_1: 0.8152 - val_loss: 1.3472 - val_accuracy: 0.6581 - val_precision_1: 0.7788 - val_recall_1: 0.5772\n",
      "Epoch 32/50\n",
      "631/632 [============================>.] - ETA: 0s - loss: 0.3731 - accuracy: 0.9064 - precision_1: 0.9585 - recall_1: 0.8325\n",
      "Epoch 00032: saving model to training01/cp-0032.ckpt\n",
      "632/632 [==============================] - 547s 866ms/step - loss: 0.3729 - accuracy: 0.9064 - precision_1: 0.9584 - recall_1: 0.8325 - val_loss: 1.3516 - val_accuracy: 0.6669 - val_precision_1: 0.7926 - val_recall_1: 0.5956\n",
      "Epoch 33/50\n",
      "631/632 [============================>.] - ETA: 0s - loss: 0.3735 - accuracy: 0.9034 - precision_1: 0.9567 - recall_1: 0.8319\n",
      "Epoch 00033: saving model to training01/cp-0033.ckpt\n",
      "632/632 [==============================] - 545s 862ms/step - loss: 0.3733 - accuracy: 0.9035 - precision_1: 0.9568 - recall_1: 0.8321 - val_loss: 1.3622 - val_accuracy: 0.6875 - val_precision_1: 0.7916 - val_recall_1: 0.6228\n",
      "Epoch 34/50\n",
      "631/632 [============================>.] - ETA: 0s - loss: 0.3419 - accuracy: 0.9117 - precision_1: 0.9599 - recall_1: 0.8468\n",
      "Epoch 00034: saving model to training01/cp-0034.ckpt\n",
      "632/632 [==============================] - 549s 868ms/step - loss: 0.3418 - accuracy: 0.9118 - precision_1: 0.9600 - recall_1: 0.8470 - val_loss: 1.4540 - val_accuracy: 0.6684 - val_precision_1: 0.7734 - val_recall_1: 0.6074\n",
      "Epoch 35/50\n",
      "631/632 [============================>.] - ETA: 0s - loss: 0.3319 - accuracy: 0.9140 - precision_1: 0.9582 - recall_1: 0.8554\n",
      "Epoch 00035: saving model to training01/cp-0035.ckpt\n",
      "632/632 [==============================] - 543s 859ms/step - loss: 0.3318 - accuracy: 0.9139 - precision_1: 0.9582 - recall_1: 0.8555 - val_loss: 1.3471 - val_accuracy: 0.6978 - val_precision_1: 0.8006 - val_recall_1: 0.6346\n"
     ]
    }
   ],
   "source": [
    "history = DenseNetModel.fit_generator(train_generator, steps_per_epoch=2*(train_generator.samples//train_generator.batch_size), validation_data=valid_generator,validation_steps=valid_generator.samples//valid_generator.batch_size , callbacks=callbacks, verbose=1, epochs=50, use_multiprocessing=True)"
   ]
  },
  {
   "cell_type": "code",
   "execution_count": 22,
   "metadata": {},
   "outputs": [],
   "source": [
    "DenseNetModel.save_weights('densenet.h5')"
   ]
  },
  {
   "cell_type": "code",
   "execution_count": 23,
   "metadata": {},
   "outputs": [],
   "source": [
    "DenseNetModel.load_weights('densenet.h5')"
   ]
  },
  {
   "cell_type": "code",
   "execution_count": 25,
   "metadata": {},
   "outputs": [],
   "source": [
    "filenames = test_generator.filenames\n",
    "nb_samples = len(filenames)\n",
    "\n",
    "predict = DenseNetModel.predict_generator(test_generator,steps = nb_samples)"
   ]
  },
  {
   "cell_type": "code",
   "execution_count": 27,
   "metadata": {},
   "outputs": [
    {
     "data": {
      "text/plain": [
       "[15.486083995773498, 0.039191935, 0.039191935, 0.039191935]"
      ]
     },
     "execution_count": 27,
     "metadata": {},
     "output_type": "execute_result"
    }
   ],
   "source": [
    "DenseNetModel.evaluate_generator(test_generator,steps = nb_samples)"
   ]
  },
  {
   "cell_type": "code",
   "execution_count": 30,
   "metadata": {
    "collapsed": true
   },
   "outputs": [
    {
     "ename": "OSError",
     "evalue": "cannot identify image file '/tmp/test/76/image_02545.jpg'",
     "output_type": "error",
     "traceback": [
      "\u001b[0;31m---------------------------------------------------------------------------\u001b[0m",
      "\u001b[0;31mOSError\u001b[0m                                   Traceback (most recent call last)",
      "\u001b[0;32m<ipython-input-30-23c5d8baefbe>\u001b[0m in \u001b[0;36m<module>\u001b[0;34m\u001b[0m\n\u001b[0;32m----> 1\u001b[0;31m \u001b[0mDenseNetModel\u001b[0m\u001b[0;34m.\u001b[0m\u001b[0mevaluate_generator\u001b[0m\u001b[0;34m(\u001b[0m\u001b[0mtest_genarator2\u001b[0m\u001b[0;34m,\u001b[0m\u001b[0msteps\u001b[0m \u001b[0;34m=\u001b[0m \u001b[0mnb_samples\u001b[0m\u001b[0;34m)\u001b[0m\u001b[0;34m\u001b[0m\u001b[0;34m\u001b[0m\u001b[0m\n\u001b[0m",
      "\u001b[0;32m~/anaconda3/envs/DLmodel/lib/python3.7/site-packages/tensorflow_core/python/keras/engine/training.py\u001b[0m in \u001b[0;36mevaluate_generator\u001b[0;34m(self, generator, steps, callbacks, max_queue_size, workers, use_multiprocessing, verbose)\u001b[0m\n\u001b[1;32m   1362\u001b[0m         \u001b[0muse_multiprocessing\u001b[0m\u001b[0;34m=\u001b[0m\u001b[0muse_multiprocessing\u001b[0m\u001b[0;34m,\u001b[0m\u001b[0;34m\u001b[0m\u001b[0;34m\u001b[0m\u001b[0m\n\u001b[1;32m   1363\u001b[0m         \u001b[0mverbose\u001b[0m\u001b[0;34m=\u001b[0m\u001b[0mverbose\u001b[0m\u001b[0;34m,\u001b[0m\u001b[0;34m\u001b[0m\u001b[0;34m\u001b[0m\u001b[0m\n\u001b[0;32m-> 1364\u001b[0;31m         callbacks=callbacks)\n\u001b[0m\u001b[1;32m   1365\u001b[0m \u001b[0;34m\u001b[0m\u001b[0m\n\u001b[1;32m   1366\u001b[0m   def predict_generator(self,\n",
      "\u001b[0;32m~/anaconda3/envs/DLmodel/lib/python3.7/site-packages/tensorflow_core/python/keras/engine/training_generator.py\u001b[0m in \u001b[0;36mmodel_iteration\u001b[0;34m(model, data, steps_per_epoch, epochs, verbose, callbacks, validation_data, validation_steps, validation_freq, class_weight, max_queue_size, workers, use_multiprocessing, shuffle, initial_epoch, mode, batch_size, steps_name, **kwargs)\u001b[0m\n\u001b[1;32m    219\u001b[0m     \u001b[0mstep\u001b[0m \u001b[0;34m=\u001b[0m \u001b[0;36m0\u001b[0m\u001b[0;34m\u001b[0m\u001b[0;34m\u001b[0m\u001b[0m\n\u001b[1;32m    220\u001b[0m     \u001b[0;32mwhile\u001b[0m \u001b[0mstep\u001b[0m \u001b[0;34m<\u001b[0m \u001b[0mtarget_steps\u001b[0m\u001b[0;34m:\u001b[0m\u001b[0;34m\u001b[0m\u001b[0;34m\u001b[0m\u001b[0m\n\u001b[0;32m--> 221\u001b[0;31m       \u001b[0mbatch_data\u001b[0m \u001b[0;34m=\u001b[0m \u001b[0m_get_next_batch\u001b[0m\u001b[0;34m(\u001b[0m\u001b[0mgenerator\u001b[0m\u001b[0;34m)\u001b[0m\u001b[0;34m\u001b[0m\u001b[0;34m\u001b[0m\u001b[0m\n\u001b[0m\u001b[1;32m    222\u001b[0m       \u001b[0;32mif\u001b[0m \u001b[0mbatch_data\u001b[0m \u001b[0;32mis\u001b[0m \u001b[0;32mNone\u001b[0m\u001b[0;34m:\u001b[0m\u001b[0;34m\u001b[0m\u001b[0;34m\u001b[0m\u001b[0m\n\u001b[1;32m    223\u001b[0m         \u001b[0;32mif\u001b[0m \u001b[0mis_dataset\u001b[0m\u001b[0;34m:\u001b[0m\u001b[0;34m\u001b[0m\u001b[0;34m\u001b[0m\u001b[0m\n",
      "\u001b[0;32m~/anaconda3/envs/DLmodel/lib/python3.7/site-packages/tensorflow_core/python/keras/engine/training_generator.py\u001b[0m in \u001b[0;36m_get_next_batch\u001b[0;34m(generator)\u001b[0m\n\u001b[1;32m    361\u001b[0m   \u001b[0;34m\"\"\"Retrieves the next batch of input data.\"\"\"\u001b[0m\u001b[0;34m\u001b[0m\u001b[0;34m\u001b[0m\u001b[0m\n\u001b[1;32m    362\u001b[0m   \u001b[0;32mtry\u001b[0m\u001b[0;34m:\u001b[0m\u001b[0;34m\u001b[0m\u001b[0;34m\u001b[0m\u001b[0m\n\u001b[0;32m--> 363\u001b[0;31m     \u001b[0mgenerator_output\u001b[0m \u001b[0;34m=\u001b[0m \u001b[0mnext\u001b[0m\u001b[0;34m(\u001b[0m\u001b[0mgenerator\u001b[0m\u001b[0;34m)\u001b[0m\u001b[0;34m\u001b[0m\u001b[0;34m\u001b[0m\u001b[0m\n\u001b[0m\u001b[1;32m    364\u001b[0m   \u001b[0;32mexcept\u001b[0m \u001b[0;34m(\u001b[0m\u001b[0mStopIteration\u001b[0m\u001b[0;34m,\u001b[0m \u001b[0merrors\u001b[0m\u001b[0;34m.\u001b[0m\u001b[0mOutOfRangeError\u001b[0m\u001b[0;34m)\u001b[0m\u001b[0;34m:\u001b[0m\u001b[0;34m\u001b[0m\u001b[0;34m\u001b[0m\u001b[0m\n\u001b[1;32m    365\u001b[0m     \u001b[0;32mreturn\u001b[0m \u001b[0;32mNone\u001b[0m\u001b[0;34m\u001b[0m\u001b[0;34m\u001b[0m\u001b[0m\n",
      "\u001b[0;32m~/anaconda3/envs/DLmodel/lib/python3.7/site-packages/tensorflow_core/python/keras/utils/data_utils.py\u001b[0m in \u001b[0;36mget\u001b[0;34m(self)\u001b[0m\n\u001b[1;32m    783\u001b[0m     \u001b[0;32mexcept\u001b[0m \u001b[0mException\u001b[0m\u001b[0;34m:\u001b[0m  \u001b[0;31m# pylint: disable=broad-except\u001b[0m\u001b[0;34m\u001b[0m\u001b[0;34m\u001b[0m\u001b[0m\n\u001b[1;32m    784\u001b[0m       \u001b[0mself\u001b[0m\u001b[0;34m.\u001b[0m\u001b[0mstop\u001b[0m\u001b[0;34m(\u001b[0m\u001b[0;34m)\u001b[0m\u001b[0;34m\u001b[0m\u001b[0;34m\u001b[0m\u001b[0m\n\u001b[0;32m--> 785\u001b[0;31m       \u001b[0msix\u001b[0m\u001b[0;34m.\u001b[0m\u001b[0mreraise\u001b[0m\u001b[0;34m(\u001b[0m\u001b[0;34m*\u001b[0m\u001b[0msys\u001b[0m\u001b[0;34m.\u001b[0m\u001b[0mexc_info\u001b[0m\u001b[0;34m(\u001b[0m\u001b[0;34m)\u001b[0m\u001b[0;34m)\u001b[0m\u001b[0;34m\u001b[0m\u001b[0;34m\u001b[0m\u001b[0m\n\u001b[0m\u001b[1;32m    786\u001b[0m \u001b[0;34m\u001b[0m\u001b[0m\n\u001b[1;32m    787\u001b[0m \u001b[0;34m\u001b[0m\u001b[0m\n",
      "\u001b[0;32m~/anaconda3/envs/DLmodel/lib/python3.7/site-packages/six.py\u001b[0m in \u001b[0;36mreraise\u001b[0;34m(tp, value, tb)\u001b[0m\n\u001b[1;32m    694\u001b[0m             \u001b[0;32mif\u001b[0m \u001b[0mvalue\u001b[0m\u001b[0;34m.\u001b[0m\u001b[0m__traceback__\u001b[0m \u001b[0;32mis\u001b[0m \u001b[0;32mnot\u001b[0m \u001b[0mtb\u001b[0m\u001b[0;34m:\u001b[0m\u001b[0;34m\u001b[0m\u001b[0;34m\u001b[0m\u001b[0m\n\u001b[1;32m    695\u001b[0m                 \u001b[0;32mraise\u001b[0m \u001b[0mvalue\u001b[0m\u001b[0;34m.\u001b[0m\u001b[0mwith_traceback\u001b[0m\u001b[0;34m(\u001b[0m\u001b[0mtb\u001b[0m\u001b[0;34m)\u001b[0m\u001b[0;34m\u001b[0m\u001b[0;34m\u001b[0m\u001b[0m\n\u001b[0;32m--> 696\u001b[0;31m             \u001b[0;32mraise\u001b[0m \u001b[0mvalue\u001b[0m\u001b[0;34m\u001b[0m\u001b[0;34m\u001b[0m\u001b[0m\n\u001b[0m\u001b[1;32m    697\u001b[0m         \u001b[0;32mfinally\u001b[0m\u001b[0;34m:\u001b[0m\u001b[0;34m\u001b[0m\u001b[0;34m\u001b[0m\u001b[0m\n\u001b[1;32m    698\u001b[0m             \u001b[0mvalue\u001b[0m \u001b[0;34m=\u001b[0m \u001b[0;32mNone\u001b[0m\u001b[0;34m\u001b[0m\u001b[0;34m\u001b[0m\u001b[0m\n",
      "\u001b[0;32m~/anaconda3/envs/DLmodel/lib/python3.7/site-packages/tensorflow_core/python/keras/utils/data_utils.py\u001b[0m in \u001b[0;36mget\u001b[0;34m(self)\u001b[0m\n\u001b[1;32m    777\u001b[0m     \u001b[0;32mtry\u001b[0m\u001b[0;34m:\u001b[0m\u001b[0;34m\u001b[0m\u001b[0;34m\u001b[0m\u001b[0m\n\u001b[1;32m    778\u001b[0m       \u001b[0;32mwhile\u001b[0m \u001b[0mself\u001b[0m\u001b[0;34m.\u001b[0m\u001b[0mis_running\u001b[0m\u001b[0;34m(\u001b[0m\u001b[0;34m)\u001b[0m\u001b[0;34m:\u001b[0m\u001b[0;34m\u001b[0m\u001b[0;34m\u001b[0m\u001b[0m\n\u001b[0;32m--> 779\u001b[0;31m         \u001b[0minputs\u001b[0m \u001b[0;34m=\u001b[0m \u001b[0mself\u001b[0m\u001b[0;34m.\u001b[0m\u001b[0mqueue\u001b[0m\u001b[0;34m.\u001b[0m\u001b[0mget\u001b[0m\u001b[0;34m(\u001b[0m\u001b[0mblock\u001b[0m\u001b[0;34m=\u001b[0m\u001b[0;32mTrue\u001b[0m\u001b[0;34m)\u001b[0m\u001b[0;34m.\u001b[0m\u001b[0mget\u001b[0m\u001b[0;34m(\u001b[0m\u001b[0;34m)\u001b[0m\u001b[0;34m\u001b[0m\u001b[0;34m\u001b[0m\u001b[0m\n\u001b[0m\u001b[1;32m    780\u001b[0m         \u001b[0mself\u001b[0m\u001b[0;34m.\u001b[0m\u001b[0mqueue\u001b[0m\u001b[0;34m.\u001b[0m\u001b[0mtask_done\u001b[0m\u001b[0;34m(\u001b[0m\u001b[0;34m)\u001b[0m\u001b[0;34m\u001b[0m\u001b[0;34m\u001b[0m\u001b[0m\n\u001b[1;32m    781\u001b[0m         \u001b[0;32mif\u001b[0m \u001b[0minputs\u001b[0m \u001b[0;32mis\u001b[0m \u001b[0;32mnot\u001b[0m \u001b[0;32mNone\u001b[0m\u001b[0;34m:\u001b[0m\u001b[0;34m\u001b[0m\u001b[0;34m\u001b[0m\u001b[0m\n",
      "\u001b[0;32m~/anaconda3/envs/DLmodel/lib/python3.7/multiprocessing/pool.py\u001b[0m in \u001b[0;36mget\u001b[0;34m(self, timeout)\u001b[0m\n\u001b[1;32m    655\u001b[0m             \u001b[0;32mreturn\u001b[0m \u001b[0mself\u001b[0m\u001b[0;34m.\u001b[0m\u001b[0m_value\u001b[0m\u001b[0;34m\u001b[0m\u001b[0;34m\u001b[0m\u001b[0m\n\u001b[1;32m    656\u001b[0m         \u001b[0;32melse\u001b[0m\u001b[0;34m:\u001b[0m\u001b[0;34m\u001b[0m\u001b[0;34m\u001b[0m\u001b[0m\n\u001b[0;32m--> 657\u001b[0;31m             \u001b[0;32mraise\u001b[0m \u001b[0mself\u001b[0m\u001b[0;34m.\u001b[0m\u001b[0m_value\u001b[0m\u001b[0;34m\u001b[0m\u001b[0;34m\u001b[0m\u001b[0m\n\u001b[0m\u001b[1;32m    658\u001b[0m \u001b[0;34m\u001b[0m\u001b[0m\n\u001b[1;32m    659\u001b[0m     \u001b[0;32mdef\u001b[0m \u001b[0m_set\u001b[0m\u001b[0;34m(\u001b[0m\u001b[0mself\u001b[0m\u001b[0;34m,\u001b[0m \u001b[0mi\u001b[0m\u001b[0;34m,\u001b[0m \u001b[0mobj\u001b[0m\u001b[0;34m)\u001b[0m\u001b[0;34m:\u001b[0m\u001b[0;34m\u001b[0m\u001b[0;34m\u001b[0m\u001b[0m\n",
      "\u001b[0;32m~/anaconda3/envs/DLmodel/lib/python3.7/multiprocessing/pool.py\u001b[0m in \u001b[0;36mworker\u001b[0;34m(inqueue, outqueue, initializer, initargs, maxtasks, wrap_exception)\u001b[0m\n\u001b[1;32m    119\u001b[0m         \u001b[0mjob\u001b[0m\u001b[0;34m,\u001b[0m \u001b[0mi\u001b[0m\u001b[0;34m,\u001b[0m \u001b[0mfunc\u001b[0m\u001b[0;34m,\u001b[0m \u001b[0margs\u001b[0m\u001b[0;34m,\u001b[0m \u001b[0mkwds\u001b[0m \u001b[0;34m=\u001b[0m \u001b[0mtask\u001b[0m\u001b[0;34m\u001b[0m\u001b[0;34m\u001b[0m\u001b[0m\n\u001b[1;32m    120\u001b[0m         \u001b[0;32mtry\u001b[0m\u001b[0;34m:\u001b[0m\u001b[0;34m\u001b[0m\u001b[0;34m\u001b[0m\u001b[0m\n\u001b[0;32m--> 121\u001b[0;31m             \u001b[0mresult\u001b[0m \u001b[0;34m=\u001b[0m \u001b[0;34m(\u001b[0m\u001b[0;32mTrue\u001b[0m\u001b[0;34m,\u001b[0m \u001b[0mfunc\u001b[0m\u001b[0;34m(\u001b[0m\u001b[0;34m*\u001b[0m\u001b[0margs\u001b[0m\u001b[0;34m,\u001b[0m \u001b[0;34m**\u001b[0m\u001b[0mkwds\u001b[0m\u001b[0;34m)\u001b[0m\u001b[0;34m)\u001b[0m\u001b[0;34m\u001b[0m\u001b[0;34m\u001b[0m\u001b[0m\n\u001b[0m\u001b[1;32m    122\u001b[0m         \u001b[0;32mexcept\u001b[0m \u001b[0mException\u001b[0m \u001b[0;32mas\u001b[0m \u001b[0me\u001b[0m\u001b[0;34m:\u001b[0m\u001b[0;34m\u001b[0m\u001b[0;34m\u001b[0m\u001b[0m\n\u001b[1;32m    123\u001b[0m             \u001b[0;32mif\u001b[0m \u001b[0mwrap_exception\u001b[0m \u001b[0;32mand\u001b[0m \u001b[0mfunc\u001b[0m \u001b[0;32mis\u001b[0m \u001b[0;32mnot\u001b[0m \u001b[0m_helper_reraises_exception\u001b[0m\u001b[0;34m:\u001b[0m\u001b[0;34m\u001b[0m\u001b[0;34m\u001b[0m\u001b[0m\n",
      "\u001b[0;32m~/anaconda3/envs/DLmodel/lib/python3.7/site-packages/tensorflow_core/python/keras/utils/data_utils.py\u001b[0m in \u001b[0;36mget_index\u001b[0;34m(uid, i)\u001b[0m\n\u001b[1;32m    569\u001b[0m       \u001b[0mThe\u001b[0m \u001b[0mvalue\u001b[0m \u001b[0mat\u001b[0m \u001b[0mindex\u001b[0m\u001b[0;31m \u001b[0m\u001b[0;31m`\u001b[0m\u001b[0mi\u001b[0m\u001b[0;31m`\u001b[0m\u001b[0;34m.\u001b[0m\u001b[0;34m\u001b[0m\u001b[0;34m\u001b[0m\u001b[0m\n\u001b[1;32m    570\u001b[0m   \"\"\"\n\u001b[0;32m--> 571\u001b[0;31m   \u001b[0;32mreturn\u001b[0m \u001b[0m_SHARED_SEQUENCES\u001b[0m\u001b[0;34m[\u001b[0m\u001b[0muid\u001b[0m\u001b[0;34m]\u001b[0m\u001b[0;34m[\u001b[0m\u001b[0mi\u001b[0m\u001b[0;34m]\u001b[0m\u001b[0;34m\u001b[0m\u001b[0;34m\u001b[0m\u001b[0m\n\u001b[0m\u001b[1;32m    572\u001b[0m \u001b[0;34m\u001b[0m\u001b[0m\n\u001b[1;32m    573\u001b[0m \u001b[0;34m\u001b[0m\u001b[0m\n",
      "\u001b[0;32m~/anaconda3/envs/DLmodel/lib/python3.7/site-packages/keras_preprocessing/image/iterator.py\u001b[0m in \u001b[0;36m__getitem__\u001b[0;34m(self, idx)\u001b[0m\n\u001b[1;32m     63\u001b[0m         index_array = self.index_array[self.batch_size * idx:\n\u001b[1;32m     64\u001b[0m                                        self.batch_size * (idx + 1)]\n\u001b[0;32m---> 65\u001b[0;31m         \u001b[0;32mreturn\u001b[0m \u001b[0mself\u001b[0m\u001b[0;34m.\u001b[0m\u001b[0m_get_batches_of_transformed_samples\u001b[0m\u001b[0;34m(\u001b[0m\u001b[0mindex_array\u001b[0m\u001b[0;34m)\u001b[0m\u001b[0;34m\u001b[0m\u001b[0;34m\u001b[0m\u001b[0m\n\u001b[0m\u001b[1;32m     66\u001b[0m \u001b[0;34m\u001b[0m\u001b[0m\n\u001b[1;32m     67\u001b[0m     \u001b[0;32mdef\u001b[0m \u001b[0m__len__\u001b[0m\u001b[0;34m(\u001b[0m\u001b[0mself\u001b[0m\u001b[0;34m)\u001b[0m\u001b[0;34m:\u001b[0m\u001b[0;34m\u001b[0m\u001b[0;34m\u001b[0m\u001b[0m\n",
      "\u001b[0;32m~/anaconda3/envs/DLmodel/lib/python3.7/site-packages/keras_preprocessing/image/iterator.py\u001b[0m in \u001b[0;36m_get_batches_of_transformed_samples\u001b[0;34m(self, index_array)\u001b[0m\n\u001b[1;32m    228\u001b[0m                            \u001b[0mcolor_mode\u001b[0m\u001b[0;34m=\u001b[0m\u001b[0mself\u001b[0m\u001b[0;34m.\u001b[0m\u001b[0mcolor_mode\u001b[0m\u001b[0;34m,\u001b[0m\u001b[0;34m\u001b[0m\u001b[0;34m\u001b[0m\u001b[0m\n\u001b[1;32m    229\u001b[0m                            \u001b[0mtarget_size\u001b[0m\u001b[0;34m=\u001b[0m\u001b[0mself\u001b[0m\u001b[0;34m.\u001b[0m\u001b[0mtarget_size\u001b[0m\u001b[0;34m,\u001b[0m\u001b[0;34m\u001b[0m\u001b[0;34m\u001b[0m\u001b[0m\n\u001b[0;32m--> 230\u001b[0;31m                            interpolation=self.interpolation)\n\u001b[0m\u001b[1;32m    231\u001b[0m             \u001b[0mx\u001b[0m \u001b[0;34m=\u001b[0m \u001b[0mimg_to_array\u001b[0m\u001b[0;34m(\u001b[0m\u001b[0mimg\u001b[0m\u001b[0;34m,\u001b[0m \u001b[0mdata_format\u001b[0m\u001b[0;34m=\u001b[0m\u001b[0mself\u001b[0m\u001b[0;34m.\u001b[0m\u001b[0mdata_format\u001b[0m\u001b[0;34m)\u001b[0m\u001b[0;34m\u001b[0m\u001b[0;34m\u001b[0m\u001b[0m\n\u001b[1;32m    232\u001b[0m             \u001b[0;31m# Pillow images should be closed after `load_img`,\u001b[0m\u001b[0;34m\u001b[0m\u001b[0;34m\u001b[0m\u001b[0;34m\u001b[0m\u001b[0m\n",
      "\u001b[0;32m~/anaconda3/envs/DLmodel/lib/python3.7/site-packages/keras_preprocessing/image/utils.py\u001b[0m in \u001b[0;36mload_img\u001b[0;34m(path, grayscale, color_mode, target_size, interpolation)\u001b[0m\n\u001b[1;32m    108\u001b[0m         raise ImportError('Could not import PIL.Image. '\n\u001b[1;32m    109\u001b[0m                           'The use of `load_img` requires PIL.')\n\u001b[0;32m--> 110\u001b[0;31m     \u001b[0mimg\u001b[0m \u001b[0;34m=\u001b[0m \u001b[0mpil_image\u001b[0m\u001b[0;34m.\u001b[0m\u001b[0mopen\u001b[0m\u001b[0;34m(\u001b[0m\u001b[0mpath\u001b[0m\u001b[0;34m)\u001b[0m\u001b[0;34m\u001b[0m\u001b[0;34m\u001b[0m\u001b[0m\n\u001b[0m\u001b[1;32m    111\u001b[0m     \u001b[0;32mif\u001b[0m \u001b[0mcolor_mode\u001b[0m \u001b[0;34m==\u001b[0m \u001b[0;34m'grayscale'\u001b[0m\u001b[0;34m:\u001b[0m\u001b[0;34m\u001b[0m\u001b[0;34m\u001b[0m\u001b[0m\n\u001b[1;32m    112\u001b[0m         \u001b[0;32mif\u001b[0m \u001b[0mimg\u001b[0m\u001b[0;34m.\u001b[0m\u001b[0mmode\u001b[0m \u001b[0;34m!=\u001b[0m \u001b[0;34m'L'\u001b[0m\u001b[0;34m:\u001b[0m\u001b[0;34m\u001b[0m\u001b[0;34m\u001b[0m\u001b[0m\n",
      "\u001b[0;32m~/anaconda3/envs/DLmodel/lib/python3.7/site-packages/PIL/Image.py\u001b[0m in \u001b[0;36mopen\u001b[0;34m(fp, mode)\u001b[0m\n\u001b[1;32m   2816\u001b[0m     \u001b[0;32mfor\u001b[0m \u001b[0mmessage\u001b[0m \u001b[0;32min\u001b[0m \u001b[0maccept_warnings\u001b[0m\u001b[0;34m:\u001b[0m\u001b[0;34m\u001b[0m\u001b[0;34m\u001b[0m\u001b[0m\n\u001b[1;32m   2817\u001b[0m         \u001b[0mwarnings\u001b[0m\u001b[0;34m.\u001b[0m\u001b[0mwarn\u001b[0m\u001b[0;34m(\u001b[0m\u001b[0mmessage\u001b[0m\u001b[0;34m)\u001b[0m\u001b[0;34m\u001b[0m\u001b[0;34m\u001b[0m\u001b[0m\n\u001b[0;32m-> 2818\u001b[0;31m     \u001b[0;32mraise\u001b[0m \u001b[0mIOError\u001b[0m\u001b[0;34m(\u001b[0m\u001b[0;34m\"cannot identify image file %r\"\u001b[0m \u001b[0;34m%\u001b[0m \u001b[0;34m(\u001b[0m\u001b[0mfilename\u001b[0m \u001b[0;32mif\u001b[0m \u001b[0mfilename\u001b[0m \u001b[0;32melse\u001b[0m \u001b[0mfp\u001b[0m\u001b[0;34m)\u001b[0m\u001b[0;34m)\u001b[0m\u001b[0;34m\u001b[0m\u001b[0;34m\u001b[0m\u001b[0m\n\u001b[0m\u001b[1;32m   2819\u001b[0m \u001b[0;34m\u001b[0m\u001b[0m\n\u001b[1;32m   2820\u001b[0m \u001b[0;34m\u001b[0m\u001b[0m\n",
      "\u001b[0;31mOSError\u001b[0m: cannot identify image file '/tmp/test/76/image_02545.jpg'"
     ]
    }
   ],
   "source": [
    "DenseNetModel.evaluate_generator(test_genarator2,steps = nb_samples)"
   ]
  },
  {
   "cell_type": "code",
   "execution_count": 31,
   "metadata": {},
   "outputs": [
    {
     "data": {
      "text/plain": [
       "dict_keys(['loss', 'accuracy', 'precision_1', 'recall_1', 'val_loss', 'val_accuracy', 'val_precision_1', 'val_recall_1'])"
      ]
     },
     "execution_count": 31,
     "metadata": {},
     "output_type": "execute_result"
    }
   ],
   "source": [
    "history.history.keys()"
   ]
  },
  {
   "cell_type": "code",
   "execution_count": 40,
   "metadata": {},
   "outputs": [
    {
     "data": {
      "text/plain": [
       "<matplotlib.legend.Legend at 0x7f323c073e10>"
      ]
     },
     "execution_count": 40,
     "metadata": {},
     "output_type": "execute_result"
    },
    {
     "data": {
      "image/png": "[encoded data removed]",
      "text/plain": [
       "<Figure size 1080x576 with 1 Axes>"
      ]
     },
     "metadata": {
      "needs_background": "light"
     },
     "output_type": "display_data"
    }
   ],
   "source": [
    "plt.figure(figsize=(15,8))\n",
    "plt.plot(history.history['accuracy'], label='accuracy')\n",
    "plt.plot(history.history['loss'], label='loss')\n",
    "plt.plot(history.history['precision_1'], label='precision_1')\n",
    "plt.plot(history.history['recall_1'], label='recall_1')\n",
    "plt.plot(history.history['val_loss'], label='val_loss')\n",
    "plt.plot(history.history['val_accuracy'], label='val_accuracy')\n",
    "plt.plot(history.history['val_precision_1'], label='val_precision_1')\n",
    "plt.plot(history.history['val_recall_1'], label='val_recall_1')\n",
    "plt.xlabel('Epoch')\n",
    "plt.legend()"
   ]
  },
  {
   "cell_type": "code",
   "execution_count": null,
   "metadata": {},
   "outputs": [],
   "source": []
  }
 ],
 "metadata": {
  "kernelspec": {
   "display_name": "Python 3",
   "language": "python",
   "name": "python3"
  },
  "language_info": {
   "codemirror_mode": {
    "name": "ipython",
    "version": 3
   },
   "file_extension": ".py",
   "mimetype": "text/x-python",
   "name": "python",
   "nbconvert_exporter": "python",
   "pygments_lexer": "ipython3",
   "version": "3.7.5"
  }
 },
 "nbformat": 4,
 "nbformat_minor": 1
}
