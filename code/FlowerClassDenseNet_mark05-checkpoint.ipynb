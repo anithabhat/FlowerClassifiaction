{
 "cells": [
  {
   "cell_type": "code",
   "execution_count": 1,
   "metadata": {
    "_cell_guid": "79c7e3d0-c299-4dcb-8224-4455121ee9b0",
    "_uuid": "d629ff2d2480ee46fbb7e2d37f6b5fab8052498a"
   },
   "outputs": [
    {
     "name": "stdout",
     "output_type": "stream",
     "text": [
      "2.0.0\n"
     ]
    }
   ],
   "source": [
    "%load_ext tensorboard\n",
    "import numpy as np\n",
    "import matplotlib.pyplot as plt\n",
    "import tensorflow as tf\n",
    "import datetime\n",
    "import os\n",
    "import scipy.io\n",
    "import tarfile\n",
    "from PIL import Image\n",
    "from tqdm.notebook import tqdm_notebook\n",
    "import sklearn\n",
    "import tensorflow as tf\n",
    "from sklearn.model_selection import train_test_split\n",
    "print(tf.__version__)"
   ]
  },
  {
   "cell_type": "code",
   "execution_count": 2,
   "metadata": {},
   "outputs": [
    {
     "data": {
      "text/plain": [
       "False"
      ]
     },
     "execution_count": 2,
     "metadata": {},
     "output_type": "execute_result"
    }
   ],
   "source": [
    "tf.test.is_gpu_available(\n",
    "    cuda_only=False,\n",
    "    min_cuda_compute_capability=None\n",
    ")"
   ]
  },
  {
   "cell_type": "code",
   "execution_count": 3,
   "metadata": {},
   "outputs": [
    {
     "name": "stdout",
     "output_type": "stream",
     "text": [
      "--2019-12-17 19:05:07--  http://www.robots.ox.ac.uk/~vgg/data/flowers/102/102flowers.tgz\n",
      "Resolving www.robots.ox.ac.uk (www.robots.ox.ac.uk)... 129.67.94.2\n",
      "Connecting to www.robots.ox.ac.uk (www.robots.ox.ac.uk)|129.67.94.2|:80... connected.\n",
      "HTTP request sent, awaiting response... 200 OK\n",
      "Length: 344862509 (329M) [application/x-gzip]\n",
      "Saving to: ‘102flowers.tgz’\n",
      "\n",
      "102flowers.tgz      100%[===================>] 328.89M  83.1MB/s    in 4.1s    \n",
      "\n",
      "2019-12-17 19:05:11 (80.3 MB/s) - ‘102flowers.tgz’ saved [344862509/344862509]\n",
      "\n"
     ]
    }
   ],
   "source": [
    "!wget http://www.robots.ox.ac.uk/~vgg/data/flowers/102/102flowers.tgz"
   ]
  },
  {
   "cell_type": "code",
   "execution_count": 3,
   "metadata": {},
   "outputs": [
    {
     "name": "stderr",
     "output_type": "stream",
     "text": [
      "'wget' is not recognized as an internal or external command,\n",
      "operable program or batch file.\n"
     ]
    }
   ],
   "source": [
    "!wget https://www.robots.ox.ac.uk/~vgg/data/flowers/102/102segmentations.tgz"
   ]
  },
  {
   "cell_type": "code",
   "execution_count": 81,
   "metadata": {},
   "outputs": [
    {
     "name": "stdout",
     "output_type": "stream",
     "text": [
      "--2019-12-17 18:53:34--  http://www.robots.ox.ac.uk/~vgg/data/flowers/102/imagelabels.mat\n",
      "Resolving www.robots.ox.ac.uk (www.robots.ox.ac.uk)... 129.67.94.2\n",
      "Connecting to www.robots.ox.ac.uk (www.robots.ox.ac.uk)|129.67.94.2|:80... connected.\n",
      "HTTP request sent, awaiting response... 200 OK\n",
      "Length: 502\n",
      "Saving to: ‘imagelabels.mat’\n",
      "\n",
      "imagelabels.mat     100%[===================>]     502  --.-KB/s    in 0s      \n",
      "\n",
      "2019-12-17 18:53:34 (94.1 MB/s) - ‘imagelabels.mat’ saved [502/502]\n",
      "\n"
     ]
    }
   ],
   "source": [
    "!wget http://www.robots.ox.ac.uk/~vgg/data/flowers/102/imagelabels.mat"
   ]
  },
  {
   "cell_type": "code",
   "execution_count": 4,
   "metadata": {},
   "outputs": [],
   "source": [
    "labels = scipy.io.loadmat('imagelabels.mat')\n",
    "labels = np.array(labels['labels'][0])"
   ]
  },
  {
   "cell_type": "code",
   "execution_count": 5,
   "metadata": {},
   "outputs": [],
   "source": [
    "imageFile  = tarfile.open(name='102flowers.tgz', mode='r:gz')\n",
    "\n",
    "savepath = '/tmp/102flowers/'\n",
    "\n",
    "imageFile.extractall(savepath)"
   ]
  },
  {
   "cell_type": "code",
   "execution_count": null,
   "metadata": {},
   "outputs": [],
   "source": [
    "segmentfile = tarfile.open(name= '102segmentations.tgz', mode='r:gz')\n",
    "savepath_seg = '/tmp/102flowers_seg/'\n",
    "segmentfile.extractall(savepath_seg)"
   ]
  },
  {
   "cell_type": "code",
   "execution_count": 7,
   "metadata": {},
   "outputs": [],
   "source": [
    "train_path = '/tmp/train/'\n",
    "test_path = '/tmp/test/'\n",
    "if not os.path.isdir(train_path):\n",
    "  os.mkdir(train_path)\n",
    "if not os.path.isdir(test_path):\n",
    "  os.mkdir(test_path)"
   ]
  },
  {
   "cell_type": "code",
   "execution_count": 8,
   "metadata": {},
   "outputs": [
    {
     "name": "stdout",
     "output_type": "stream",
     "text": [
      "79 %\n"
     ]
    }
   ],
   "source": [
    "count_M20 = 0\n",
    "for i in range(101):\n",
    "    rand = np.random.randint(0, 100, dtype= np.int64)\n",
    "    if rand > 20:\n",
    "        count_M20 += 1\n",
    "print(count_M20, '%')"
   ]
  },
  {
   "cell_type": "code",
   "execution_count": 9,
   "metadata": {},
   "outputs": [
    {
     "data": {
      "application/vnd.jupyter.widget-view+json": {
       "model_id": "2b3f76aa8aa741ccabaf788f4d9cef01",
       "version_major": 2,
       "version_minor": 0
      },
      "text/plain": [
       "HBox(children=(IntProgress(value=0, max=8189), HTML(value='')))"
      ]
     },
     "metadata": {},
     "output_type": "display_data"
    },
    {
     "name": "stdout",
     "output_type": "stream",
     "text": [
      "\n"
     ]
    }
   ],
   "source": [
    "path = savepath + 'jpg/'\n",
    "np.random.seed(42)\n",
    "for f in tqdm_notebook(os.listdir(path), total= len(os.listdir(path))):\n",
    "  image = Image.open(os.path.join(path, f))\n",
    "  image_id = int(f.replace('image_', \"\").replace('.jpg',\"\"))\n",
    "  rand = np.random.randint(0,100,dtype= np.int64)\n",
    "  if rand > 20:\n",
    "    if not os.path.isdir(train_path + str(labels[image_id-1])):\n",
    "        os.mkdir(train_path + str(labels[image_id-1]))\n",
    "    image.save(train_path + str(labels[image_id-1]) + '/' + f )\n",
    "  else:\n",
    "    if not os.path.isdir(test_path + str(labels[image_id-1])):\n",
    "        os.mkdir(test_path + str(labels[image_id-1]))\n",
    "    image.save(test_path + str(labels[image_id-1]) + '/' + f )"
   ]
  },
  {
   "cell_type": "code",
   "execution_count": 9,
   "metadata": {},
   "outputs": [
    {
     "name": "stdout",
     "output_type": "stream",
     "text": [
      "Found 5071 images belonging to 102 classes.\n",
      "Found 1361 images belonging to 102 classes.\n",
      "Found 1757 images belonging to 102 classes.\n"
     ]
    }
   ],
   "source": [
    "from tensorflow.keras.preprocessing.image import ImageDataGenerator\n",
    "\n",
    "class FixedImageDataGenerator(ImageDataGenerator):\n",
    "    def standardize(self, x):\n",
    "        if self.featurewise_center:\n",
    "            x = ((x/255.) - 0.5) * 2.\n",
    "        return x\n",
    "    \n",
    "data_gen_args = dict(featurewise_center=True,\n",
    "                     featurewise_std_normalization=True,\n",
    "                     rotation_range=90,\n",
    "                     width_shift_range=0.1,\n",
    "                     height_shift_range=0.1,\n",
    "                     zoom_range=0.2,\n",
    "                     rescale = 1/255.,\n",
    "                     validation_split=0.22)\n",
    "\n",
    "#train_datagen = ImageDataGenerator(rescale = 1/255., validation_split=0.2)\n",
    "\n",
    "train_datagen = FixedImageDataGenerator(**data_gen_args)\n",
    "\n",
    "train_generator = train_datagen.flow_from_directory(train_path, subset='training', target_size = (50,50), batch_size = 16, class_mode = 'categorical', seed=42, shuffle=True)\n",
    "\n",
    "valid_generator = train_datagen.flow_from_directory(train_path, subset='validation', target_size = (50,50), batch_size = 16, class_mode = 'categorical', seed=42, shuffle=True)\n",
    "\n",
    "#train_generator = train_datagen.flow(imgs, y_one_hot, batch_size=128, subset='training', seed=42)\n",
    "\n",
    "test_datagen = FixedImageDataGenerator(rescale= 1/255.)\n",
    "\n",
    "test_generator = test_datagen.flow_from_directory(test_path, target_size= (50,50), batch_size = 16, class_mode = 'categorical', seed = 42, shuffle=True)"
   ]
  },
  {
   "cell_type": "code",
   "execution_count": 10,
   "metadata": {},
   "outputs": [
    {
     "name": "stdout",
     "output_type": "stream",
     "text": [
      "Found 1757 images belonging to 102 classes.\n"
     ]
    }
   ],
   "source": [
    "test_datagen2 = FixedImageDataGenerator(rescale= 1/255., featurewise_center=True, featurewise_std_normalization=True)\n",
    "test_generator2 = test_datagen2.flow_from_directory(test_path, target_size= (50,50), batch_size = 16, class_mode = 'categorical', seed = 42)"
   ]
  },
  {
   "cell_type": "code",
   "execution_count": 11,
   "metadata": {},
   "outputs": [],
   "source": [
    "IMG_WIDTH, IMG_HEIGHT, CHANNELS = (50,50,3)\n",
    "eps = 1.1e-5\n",
    "concat_axis = 3"
   ]
  },
  {
   "cell_type": "code",
   "execution_count": 12,
   "metadata": {},
   "outputs": [],
   "source": [
    "from tensorflow.keras.layers import *\n",
    "from tensorflow.keras.models import Model\n",
    "\n",
    "from tensorflow.keras.layers import Layer, InputSpec\n",
    "try:\n",
    "    from tensorflow.keras import initializations\n",
    "except ImportError:\n",
    "    from tensorflow.keras import initializers as initializations\n",
    "\n",
    "class Scale(Layer):\n",
    "    '''Custom Layer for DenseNet used for BatchNormalization.\n",
    "    \n",
    "    Learns a set of weights and biases used for scaling the input data.\n",
    "    the output consists simply in an element-wise multiplication of the input\n",
    "    and a sum of a set of constants:\n",
    "        out = in * gamma + beta,\n",
    "    where 'gamma' and 'beta' are the weights and biases learnt.\n",
    "    # Arguments\n",
    "        axis: integer, axis along which to normalize in mode 0. For instance,\n",
    "            if your input tensor has shape (samples, channels, rows, cols),\n",
    "            set axis to 1 to normalize per feature map (channels axis).\n",
    "        momentum: momentum in the computation of the\n",
    "            exponential average of the mean and standard deviation\n",
    "            of the data, for feature-wise normalization.\n",
    "        weights: Initialization weights.\n",
    "            List of 2 Numpy arrays, with shapes:\n",
    "            `[(input_shape,), (input_shape,)]`\n",
    "        beta_init: name of initialization function for shift parameter\n",
    "            (see [initializations](../initializations.md)), or alternatively,\n",
    "            Theano/TensorFlow function to use for weights initialization.\n",
    "            This parameter is only relevant if you don't pass a `weights` argument.\n",
    "        gamma_init: name of initialization function for scale parameter (see\n",
    "            [initializations](../initializations.md)), or alternatively,\n",
    "            Theano/TensorFlow function to use for weights initialization.\n",
    "            This parameter is only relevant if you don't pass a `weights` argument.\n",
    "    '''\n",
    "    def __init__(self, weights=None, axis=-1, momentum = 0.9, beta_init='zero', gamma_init='one', **kwargs):\n",
    "        self.momentum = momentum\n",
    "        self.axis = axis\n",
    "        self.beta_init = initializations.get(beta_init)\n",
    "        self.gamma_init = initializations.get(gamma_init)\n",
    "        self.initial_weights = weights\n",
    "        super(Scale, self).__init__(**kwargs)\n",
    "\n",
    "    def build(self, input_shape):\n",
    "        self.input_spec = [InputSpec(shape=input_shape)]\n",
    "        shape = (int(input_shape[self.axis]),)\n",
    "\n",
    "        self.gamma = tf.Variable(self.gamma_init(shape), name='{}_gamma'.format(self.name))\n",
    "        self.beta = tf.Variable(self.beta_init(shape), name='{}_beta'.format(self.name))\n",
    "        #self.trainable_weights = [self.gamma, self.beta]\n",
    "\n",
    "        if self.initial_weights is not None:\n",
    "            self.set_weights(self.initial_weights)\n",
    "            del self.initial_weights\n",
    "\n",
    "    def call(self, x, mask=None):\n",
    "        input_shape = self.input_spec[0].shape\n",
    "        broadcast_shape = [1] * len(input_shape)\n",
    "        broadcast_shape[self.axis] = input_shape[self.axis]\n",
    "\n",
    "        out = tf.reshape(self.gamma, broadcast_shape) * x + tf.reshape(self.beta, broadcast_shape)\n",
    "        return out\n",
    "\n",
    "    def get_config(self):\n",
    "        config = {\"momentum\": self.momentum, \"axis\": self.axis}\n",
    "        base_config = super(Scale, self).get_config()\n",
    "        return dict(list(base_config.items()) + list(config.items()))\n",
    "\n",
    "def conv_block(x, stage, branch, nb_filter, dropout_rate = None, weight_decay = 1e-4):\n",
    "  conv_name_base = 'conv' + str(stage) + '_' + str(branch)\n",
    "  relu_name_base = 'relu' + str(stage) + '_' + str(branch)\n",
    "  #1X1 convolution\n",
    "  inter_channel = nb_filter * 4\n",
    "  x = BatchNormalization(epsilon=eps, axis=concat_axis, name = conv_name_base + '_x1_bn')(x)\n",
    "  x = Scale(axis=concat_axis, name=conv_name_base + '_x1_scale')(x)\n",
    "  x = Activation('relu', name= relu_name_base + '_x1')(x)\n",
    "  x = Conv2D(inter_channel, (1,1), name=conv_name_base + '_x1', use_bias=False)(x)\n",
    "  \n",
    "  if dropout_rate:\n",
    "    x = Dropout(dropout_rate)(x)\n",
    "\n",
    "  #3X3 convolution\n",
    "  x = BatchNormalization(epsilon=eps, axis= concat_axis, name=conv_name_base + '_x2_bn')(x)\n",
    "  x = Scale(axis= concat_axis, name = conv_name_base + '_x2_scale')(x)\n",
    "  x = Activation('relu', name= relu_name_base + '_x2')(x)\n",
    "  x = ZeroPadding2D((1,1), name= conv_name_base + '_x2_zeropadding')(x)\n",
    "  x = Conv2D(nb_filter, (3,3), name=conv_name_base + '_x2', use_bias=False)(x)\n",
    "\n",
    "  if dropout_rate:\n",
    "    x = Dropout(dropout_rate)(x)\n",
    "  \n",
    "  return x\n",
    "\n",
    "def transition_block(x, stage, nb_filter, compression= 1.0, dropout_rate = None, weight_decay = 1e-4):\n",
    "  conv_name_base = 'conv' + str(stage) + '_blk'\n",
    "  relu_name_base = 'relu' + str(stage) + '_blk'\n",
    "  pool_name_base = 'pool' + str(stage)\n",
    "  x = BatchNormalization(epsilon=eps, axis = concat_axis, name=conv_name_base + '_bn')(x)\n",
    "  x = Scale(axis=concat_axis, name=conv_name_base+'_scale')(x)\n",
    "  x = Activation('relu', name= relu_name_base)(x)\n",
    "  x = Conv2D(int(nb_filter * compression), (1,1), name= conv_name_base, use_bias=False)(x)\n",
    "  if dropout_rate:\n",
    "    x = Dropout(dropout_rate)(x)\n",
    "  x = AveragePooling2D((2,2), strides=(2,2), name = pool_name_base)(x)\n",
    "  return x\n",
    "\n",
    "def dense_block(x, stage, nb_layers, nb_filter, growth_rate, dropout_rate=None, weight_decay= 1e-4, grow_nb_filters= True):\n",
    "  concat_feat = x\n",
    "  for i in range(nb_layers):\n",
    "    branch = i + 1\n",
    "    x = conv_block(concat_feat, stage, branch, growth_rate, dropout_rate, weight_decay)\n",
    "    concat_feat = concatenate([concat_feat, x], axis=concat_axis, name = 'concat_'+str(stage)+'_'+str(branch))\n",
    "\n",
    "    if grow_nb_filters:\n",
    "      nb_filter += growth_rate\n",
    "  return concat_feat, nb_filter\n",
    "\n",
    "def DenseNet(nb_dense_block=4, growth_rate=32, nb_filter=64, reduction=0.0, dropout_rate=0.5, weight_decay=1e-4, classes=1000, weights_path=None):\n",
    "  compression = 1.0 - reduction\n",
    "  nb_layers = [2,3,6,4] #[6,12,24,16]\n",
    "  #input layer\n",
    "  img_input = Input(shape=(IMG_WIDTH, IMG_HEIGHT, CHANNELS), name='data')\n",
    "  #initial convolution\n",
    "  x = ZeroPadding2D((3,3), name='conv1_zeropadding')(img_input)\n",
    "  x = Conv2D(nb_filter, (7,7), strides=(2,2), name = 'conv1', use_bias=False )(x)\n",
    "  x = BatchNormalization(epsilon=eps, axis=concat_axis, name='conv1_bn')(x)\n",
    "  x = Scale(axis= concat_axis, name='conv1_scale')(x)\n",
    "  x = Activation(activation='relu', name= 'relu1')(x)\n",
    "  x = ZeroPadding2D((1,1), name='pool1_zeropadding')(x)\n",
    "  x = MaxPool2D((3,3), strides=(2,2), name= 'pool1')(x)\n",
    "\n",
    "  #Adding dense blocks\n",
    "  for i in range(nb_dense_block - 1):\n",
    "    stage = i + 2\n",
    "    x, nb_filter = dense_block(x, stage, nb_layers[i], nb_filter, growth_rate, dropout_rate=dropout_rate, weight_decay=weight_decay)\n",
    "\n",
    "    #transition block\n",
    "    x = transition_block(x, stage, nb_filter, compression=compression, dropout_rate=dropout_rate, weight_decay=weight_decay)\n",
    "    nb_filter = int(nb_filter * compression)\n",
    "  final_stage = stage + 1\n",
    "  x, nb_filter = dense_block(x, final_stage, nb_layers[-1], nb_filter, growth_rate, dropout_rate=dropout_rate,  weight_decay=weight_decay)\n",
    "  x = BatchNormalization(epsilon=eps, axis = concat_axis, name='conv'+str(final_stage)+'_blk_bn')(x)\n",
    "  x = Scale(axis=concat_axis, name='conv'+str(final_stage)+'_blk_scale')(x)\n",
    "  x = Activation('relu', name = 'relu' + str(final_stage) +'_blk' )(x)\n",
    "  x = GlobalAveragePooling2D(name='pool' + str(final_stage) +'_blk')(x)\n",
    "  x = Dense(classes, name='fc6')(x)\n",
    "  x = Activation('softmax', name='prob')(x)\n",
    "  model = Model(img_input, x, name='densenet')\n",
    "  if weights_path is not None:\n",
    "    model.load_weight(weights_path)\n",
    "  model.summary()\n",
    "  return model"
   ]
  },
  {
   "cell_type": "code",
   "execution_count": 13,
   "metadata": {
    "scrolled": false
   },
   "outputs": [
    {
     "name": "stdout",
     "output_type": "stream",
     "text": [
      "Model: \"densenet\"\n",
      "__________________________________________________________________________________________________\n",
      "Layer (type)                    Output Shape         Param #     Connected to                     \n",
      "==================================================================================================\n",
      "data (InputLayer)               [(None, 500, 500, 3) 0                                            \n",
      "__________________________________________________________________________________________________\n",
      "conv1_zeropadding (ZeroPadding2 (None, 506, 506, 3)  0           data[0][0]                       \n",
      "__________________________________________________________________________________________________\n",
      "conv1 (Conv2D)                  (None, 250, 250, 64) 9408        conv1_zeropadding[0][0]          \n",
      "__________________________________________________________________________________________________\n",
      "conv1_bn (BatchNormalization)   (None, 250, 250, 64) 256         conv1[0][0]                      \n",
      "__________________________________________________________________________________________________\n",
      "conv1_scale (Scale)             (None, 250, 250, 64) 128         conv1_bn[0][0]                   \n",
      "__________________________________________________________________________________________________\n",
      "relu1 (Activation)              (None, 250, 250, 64) 0           conv1_scale[0][0]                \n",
      "__________________________________________________________________________________________________\n",
      "pool1_zeropadding (ZeroPadding2 (None, 252, 252, 64) 0           relu1[0][0]                      \n",
      "__________________________________________________________________________________________________\n",
      "pool1 (MaxPooling2D)            (None, 125, 125, 64) 0           pool1_zeropadding[0][0]          \n",
      "__________________________________________________________________________________________________\n",
      "conv2_1_x1_bn (BatchNormalizati (None, 125, 125, 64) 256         pool1[0][0]                      \n",
      "__________________________________________________________________________________________________\n",
      "conv2_1_x1_scale (Scale)        (None, 125, 125, 64) 128         conv2_1_x1_bn[0][0]              \n",
      "__________________________________________________________________________________________________\n",
      "relu2_1_x1 (Activation)         (None, 125, 125, 64) 0           conv2_1_x1_scale[0][0]           \n",
      "__________________________________________________________________________________________________\n",
      "conv2_1_x1 (Conv2D)             (None, 125, 125, 128 8192        relu2_1_x1[0][0]                 \n",
      "__________________________________________________________________________________________________\n",
      "dropout (Dropout)               (None, 125, 125, 128 0           conv2_1_x1[0][0]                 \n",
      "__________________________________________________________________________________________________\n",
      "conv2_1_x2_bn (BatchNormalizati (None, 125, 125, 128 512         dropout[0][0]                    \n",
      "__________________________________________________________________________________________________\n",
      "conv2_1_x2_scale (Scale)        (None, 125, 125, 128 256         conv2_1_x2_bn[0][0]              \n",
      "__________________________________________________________________________________________________\n",
      "relu2_1_x2 (Activation)         (None, 125, 125, 128 0           conv2_1_x2_scale[0][0]           \n",
      "__________________________________________________________________________________________________\n",
      "conv2_1_x2_zeropadding (ZeroPad (None, 127, 127, 128 0           relu2_1_x2[0][0]                 \n",
      "__________________________________________________________________________________________________\n",
      "conv2_1_x2 (Conv2D)             (None, 125, 125, 32) 36864       conv2_1_x2_zeropadding[0][0]     \n",
      "__________________________________________________________________________________________________\n",
      "dropout_1 (Dropout)             (None, 125, 125, 32) 0           conv2_1_x2[0][0]                 \n",
      "__________________________________________________________________________________________________\n",
      "concat_2_1 (Concatenate)        (None, 125, 125, 96) 0           pool1[0][0]                      \n",
      "                                                                 dropout_1[0][0]                  \n",
      "__________________________________________________________________________________________________\n",
      "conv2_2_x1_bn (BatchNormalizati (None, 125, 125, 96) 384         concat_2_1[0][0]                 \n",
      "__________________________________________________________________________________________________\n",
      "conv2_2_x1_scale (Scale)        (None, 125, 125, 96) 192         conv2_2_x1_bn[0][0]              \n",
      "__________________________________________________________________________________________________\n",
      "relu2_2_x1 (Activation)         (None, 125, 125, 96) 0           conv2_2_x1_scale[0][0]           \n",
      "__________________________________________________________________________________________________\n",
      "conv2_2_x1 (Conv2D)             (None, 125, 125, 128 12288       relu2_2_x1[0][0]                 \n",
      "__________________________________________________________________________________________________\n",
      "dropout_2 (Dropout)             (None, 125, 125, 128 0           conv2_2_x1[0][0]                 \n",
      "__________________________________________________________________________________________________\n",
      "conv2_2_x2_bn (BatchNormalizati (None, 125, 125, 128 512         dropout_2[0][0]                  \n",
      "__________________________________________________________________________________________________\n",
      "conv2_2_x2_scale (Scale)        (None, 125, 125, 128 256         conv2_2_x2_bn[0][0]              \n",
      "__________________________________________________________________________________________________\n",
      "relu2_2_x2 (Activation)         (None, 125, 125, 128 0           conv2_2_x2_scale[0][0]           \n",
      "__________________________________________________________________________________________________\n",
      "conv2_2_x2_zeropadding (ZeroPad (None, 127, 127, 128 0           relu2_2_x2[0][0]                 \n",
      "__________________________________________________________________________________________________\n",
      "conv2_2_x2 (Conv2D)             (None, 125, 125, 32) 36864       conv2_2_x2_zeropadding[0][0]     \n",
      "__________________________________________________________________________________________________\n",
      "dropout_3 (Dropout)             (None, 125, 125, 32) 0           conv2_2_x2[0][0]                 \n",
      "__________________________________________________________________________________________________\n",
      "concat_2_2 (Concatenate)        (None, 125, 125, 128 0           concat_2_1[0][0]                 \n",
      "                                                                 dropout_3[0][0]                  \n",
      "__________________________________________________________________________________________________\n",
      "conv2_blk_bn (BatchNormalizatio (None, 125, 125, 128 512         concat_2_2[0][0]                 \n",
      "__________________________________________________________________________________________________\n",
      "conv2_blk_scale (Scale)         (None, 125, 125, 128 256         conv2_blk_bn[0][0]               \n",
      "__________________________________________________________________________________________________\n",
      "relu2_blk (Activation)          (None, 125, 125, 128 0           conv2_blk_scale[0][0]            \n",
      "__________________________________________________________________________________________________\n",
      "conv2_blk (Conv2D)              (None, 125, 125, 128 16384       relu2_blk[0][0]                  \n",
      "__________________________________________________________________________________________________\n",
      "dropout_4 (Dropout)             (None, 125, 125, 128 0           conv2_blk[0][0]                  \n",
      "__________________________________________________________________________________________________\n",
      "pool2 (AveragePooling2D)        (None, 62, 62, 128)  0           dropout_4[0][0]                  \n",
      "__________________________________________________________________________________________________\n",
      "conv3_1_x1_bn (BatchNormalizati (None, 62, 62, 128)  512         pool2[0][0]                      \n",
      "__________________________________________________________________________________________________\n",
      "conv3_1_x1_scale (Scale)        (None, 62, 62, 128)  256         conv3_1_x1_bn[0][0]              \n",
      "__________________________________________________________________________________________________\n",
      "relu3_1_x1 (Activation)         (None, 62, 62, 128)  0           conv3_1_x1_scale[0][0]           \n",
      "__________________________________________________________________________________________________\n",
      "conv3_1_x1 (Conv2D)             (None, 62, 62, 128)  16384       relu3_1_x1[0][0]                 \n",
      "__________________________________________________________________________________________________\n",
      "dropout_5 (Dropout)             (None, 62, 62, 128)  0           conv3_1_x1[0][0]                 \n",
      "__________________________________________________________________________________________________\n",
      "conv3_1_x2_bn (BatchNormalizati (None, 62, 62, 128)  512         dropout_5[0][0]                  \n",
      "__________________________________________________________________________________________________\n",
      "conv3_1_x2_scale (Scale)        (None, 62, 62, 128)  256         conv3_1_x2_bn[0][0]              \n",
      "__________________________________________________________________________________________________\n",
      "relu3_1_x2 (Activation)         (None, 62, 62, 128)  0           conv3_1_x2_scale[0][0]           \n",
      "__________________________________________________________________________________________________\n",
      "conv3_1_x2_zeropadding (ZeroPad (None, 64, 64, 128)  0           relu3_1_x2[0][0]                 \n",
      "__________________________________________________________________________________________________\n",
      "conv3_1_x2 (Conv2D)             (None, 62, 62, 32)   36864       conv3_1_x2_zeropadding[0][0]     \n",
      "__________________________________________________________________________________________________\n",
      "dropout_6 (Dropout)             (None, 62, 62, 32)   0           conv3_1_x2[0][0]                 \n",
      "__________________________________________________________________________________________________\n",
      "concat_3_1 (Concatenate)        (None, 62, 62, 160)  0           pool2[0][0]                      \n",
      "                                                                 dropout_6[0][0]                  \n",
      "__________________________________________________________________________________________________\n",
      "conv3_2_x1_bn (BatchNormalizati (None, 62, 62, 160)  640         concat_3_1[0][0]                 \n",
      "__________________________________________________________________________________________________\n",
      "conv3_2_x1_scale (Scale)        (None, 62, 62, 160)  320         conv3_2_x1_bn[0][0]              \n",
      "__________________________________________________________________________________________________\n",
      "relu3_2_x1 (Activation)         (None, 62, 62, 160)  0           conv3_2_x1_scale[0][0]           \n",
      "__________________________________________________________________________________________________\n",
      "conv3_2_x1 (Conv2D)             (None, 62, 62, 128)  20480       relu3_2_x1[0][0]                 \n",
      "__________________________________________________________________________________________________\n",
      "dropout_7 (Dropout)             (None, 62, 62, 128)  0           conv3_2_x1[0][0]                 \n",
      "__________________________________________________________________________________________________\n",
      "conv3_2_x2_bn (BatchNormalizati (None, 62, 62, 128)  512         dropout_7[0][0]                  \n",
      "__________________________________________________________________________________________________\n",
      "conv3_2_x2_scale (Scale)        (None, 62, 62, 128)  256         conv3_2_x2_bn[0][0]              \n",
      "__________________________________________________________________________________________________\n",
      "relu3_2_x2 (Activation)         (None, 62, 62, 128)  0           conv3_2_x2_scale[0][0]           \n",
      "__________________________________________________________________________________________________\n",
      "conv3_2_x2_zeropadding (ZeroPad (None, 64, 64, 128)  0           relu3_2_x2[0][0]                 \n",
      "__________________________________________________________________________________________________\n",
      "conv3_2_x2 (Conv2D)             (None, 62, 62, 32)   36864       conv3_2_x2_zeropadding[0][0]     \n",
      "__________________________________________________________________________________________________\n",
      "dropout_8 (Dropout)             (None, 62, 62, 32)   0           conv3_2_x2[0][0]                 \n",
      "__________________________________________________________________________________________________\n",
      "concat_3_2 (Concatenate)        (None, 62, 62, 192)  0           concat_3_1[0][0]                 \n",
      "                                                                 dropout_8[0][0]                  \n",
      "__________________________________________________________________________________________________\n",
      "conv3_3_x1_bn (BatchNormalizati (None, 62, 62, 192)  768         concat_3_2[0][0]                 \n",
      "__________________________________________________________________________________________________\n",
      "conv3_3_x1_scale (Scale)        (None, 62, 62, 192)  384         conv3_3_x1_bn[0][0]              \n",
      "__________________________________________________________________________________________________\n",
      "relu3_3_x1 (Activation)         (None, 62, 62, 192)  0           conv3_3_x1_scale[0][0]           \n",
      "__________________________________________________________________________________________________\n",
      "conv3_3_x1 (Conv2D)             (None, 62, 62, 128)  24576       relu3_3_x1[0][0]                 \n",
      "__________________________________________________________________________________________________\n",
      "dropout_9 (Dropout)             (None, 62, 62, 128)  0           conv3_3_x1[0][0]                 \n",
      "__________________________________________________________________________________________________\n",
      "conv3_3_x2_bn (BatchNormalizati (None, 62, 62, 128)  512         dropout_9[0][0]                  \n",
      "__________________________________________________________________________________________________\n",
      "conv3_3_x2_scale (Scale)        (None, 62, 62, 128)  256         conv3_3_x2_bn[0][0]              \n",
      "__________________________________________________________________________________________________\n",
      "relu3_3_x2 (Activation)         (None, 62, 62, 128)  0           conv3_3_x2_scale[0][0]           \n",
      "__________________________________________________________________________________________________\n",
      "conv3_3_x2_zeropadding (ZeroPad (None, 64, 64, 128)  0           relu3_3_x2[0][0]                 \n",
      "__________________________________________________________________________________________________\n",
      "conv3_3_x2 (Conv2D)             (None, 62, 62, 32)   36864       conv3_3_x2_zeropadding[0][0]     \n",
      "__________________________________________________________________________________________________\n",
      "dropout_10 (Dropout)            (None, 62, 62, 32)   0           conv3_3_x2[0][0]                 \n",
      "__________________________________________________________________________________________________\n",
      "concat_3_3 (Concatenate)        (None, 62, 62, 224)  0           concat_3_2[0][0]                 \n",
      "                                                                 dropout_10[0][0]                 \n",
      "__________________________________________________________________________________________________\n",
      "conv3_blk_bn (BatchNormalizatio (None, 62, 62, 224)  896         concat_3_3[0][0]                 \n",
      "__________________________________________________________________________________________________\n",
      "conv3_blk_scale (Scale)         (None, 62, 62, 224)  448         conv3_blk_bn[0][0]               \n",
      "__________________________________________________________________________________________________\n",
      "relu3_blk (Activation)          (None, 62, 62, 224)  0           conv3_blk_scale[0][0]            \n",
      "__________________________________________________________________________________________________\n",
      "conv3_blk (Conv2D)              (None, 62, 62, 224)  50176       relu3_blk[0][0]                  \n",
      "__________________________________________________________________________________________________\n",
      "dropout_11 (Dropout)            (None, 62, 62, 224)  0           conv3_blk[0][0]                  \n",
      "__________________________________________________________________________________________________\n",
      "pool3 (AveragePooling2D)        (None, 31, 31, 224)  0           dropout_11[0][0]                 \n",
      "__________________________________________________________________________________________________\n",
      "conv4_1_x1_bn (BatchNormalizati (None, 31, 31, 224)  896         pool3[0][0]                      \n",
      "__________________________________________________________________________________________________\n",
      "conv4_1_x1_scale (Scale)        (None, 31, 31, 224)  448         conv4_1_x1_bn[0][0]              \n",
      "__________________________________________________________________________________________________\n",
      "relu4_1_x1 (Activation)         (None, 31, 31, 224)  0           conv4_1_x1_scale[0][0]           \n",
      "__________________________________________________________________________________________________\n",
      "conv4_1_x1 (Conv2D)             (None, 31, 31, 128)  28672       relu4_1_x1[0][0]                 \n",
      "__________________________________________________________________________________________________\n",
      "dropout_12 (Dropout)            (None, 31, 31, 128)  0           conv4_1_x1[0][0]                 \n",
      "__________________________________________________________________________________________________\n",
      "conv4_1_x2_bn (BatchNormalizati (None, 31, 31, 128)  512         dropout_12[0][0]                 \n",
      "__________________________________________________________________________________________________\n",
      "conv4_1_x2_scale (Scale)        (None, 31, 31, 128)  256         conv4_1_x2_bn[0][0]              \n",
      "__________________________________________________________________________________________________\n",
      "relu4_1_x2 (Activation)         (None, 31, 31, 128)  0           conv4_1_x2_scale[0][0]           \n",
      "__________________________________________________________________________________________________\n",
      "conv4_1_x2_zeropadding (ZeroPad (None, 33, 33, 128)  0           relu4_1_x2[0][0]                 \n",
      "__________________________________________________________________________________________________\n",
      "conv4_1_x2 (Conv2D)             (None, 31, 31, 32)   36864       conv4_1_x2_zeropadding[0][0]     \n",
      "__________________________________________________________________________________________________\n",
      "dropout_13 (Dropout)            (None, 31, 31, 32)   0           conv4_1_x2[0][0]                 \n",
      "__________________________________________________________________________________________________\n",
      "concat_4_1 (Concatenate)        (None, 31, 31, 256)  0           pool3[0][0]                      \n",
      "                                                                 dropout_13[0][0]                 \n",
      "__________________________________________________________________________________________________\n",
      "conv4_2_x1_bn (BatchNormalizati (None, 31, 31, 256)  1024        concat_4_1[0][0]                 \n",
      "__________________________________________________________________________________________________\n",
      "conv4_2_x1_scale (Scale)        (None, 31, 31, 256)  512         conv4_2_x1_bn[0][0]              \n",
      "__________________________________________________________________________________________________\n",
      "relu4_2_x1 (Activation)         (None, 31, 31, 256)  0           conv4_2_x1_scale[0][0]           \n",
      "__________________________________________________________________________________________________\n",
      "conv4_2_x1 (Conv2D)             (None, 31, 31, 128)  32768       relu4_2_x1[0][0]                 \n",
      "__________________________________________________________________________________________________\n",
      "dropout_14 (Dropout)            (None, 31, 31, 128)  0           conv4_2_x1[0][0]                 \n",
      "__________________________________________________________________________________________________\n",
      "conv4_2_x2_bn (BatchNormalizati (None, 31, 31, 128)  512         dropout_14[0][0]                 \n",
      "__________________________________________________________________________________________________\n",
      "conv4_2_x2_scale (Scale)        (None, 31, 31, 128)  256         conv4_2_x2_bn[0][0]              \n",
      "__________________________________________________________________________________________________\n",
      "relu4_2_x2 (Activation)         (None, 31, 31, 128)  0           conv4_2_x2_scale[0][0]           \n",
      "__________________________________________________________________________________________________\n",
      "conv4_2_x2_zeropadding (ZeroPad (None, 33, 33, 128)  0           relu4_2_x2[0][0]                 \n",
      "__________________________________________________________________________________________________\n",
      "conv4_2_x2 (Conv2D)             (None, 31, 31, 32)   36864       conv4_2_x2_zeropadding[0][0]     \n",
      "__________________________________________________________________________________________________\n",
      "dropout_15 (Dropout)            (None, 31, 31, 32)   0           conv4_2_x2[0][0]                 \n",
      "__________________________________________________________________________________________________\n",
      "concat_4_2 (Concatenate)        (None, 31, 31, 288)  0           concat_4_1[0][0]                 \n",
      "                                                                 dropout_15[0][0]                 \n",
      "__________________________________________________________________________________________________\n",
      "conv4_3_x1_bn (BatchNormalizati (None, 31, 31, 288)  1152        concat_4_2[0][0]                 \n",
      "__________________________________________________________________________________________________\n",
      "conv4_3_x1_scale (Scale)        (None, 31, 31, 288)  576         conv4_3_x1_bn[0][0]              \n",
      "__________________________________________________________________________________________________\n",
      "relu4_3_x1 (Activation)         (None, 31, 31, 288)  0           conv4_3_x1_scale[0][0]           \n",
      "__________________________________________________________________________________________________\n",
      "conv4_3_x1 (Conv2D)             (None, 31, 31, 128)  36864       relu4_3_x1[0][0]                 \n",
      "__________________________________________________________________________________________________\n",
      "dropout_16 (Dropout)            (None, 31, 31, 128)  0           conv4_3_x1[0][0]                 \n",
      "__________________________________________________________________________________________________\n",
      "conv4_3_x2_bn (BatchNormalizati (None, 31, 31, 128)  512         dropout_16[0][0]                 \n",
      "__________________________________________________________________________________________________\n",
      "conv4_3_x2_scale (Scale)        (None, 31, 31, 128)  256         conv4_3_x2_bn[0][0]              \n",
      "__________________________________________________________________________________________________\n",
      "relu4_3_x2 (Activation)         (None, 31, 31, 128)  0           conv4_3_x2_scale[0][0]           \n",
      "__________________________________________________________________________________________________\n",
      "conv4_3_x2_zeropadding (ZeroPad (None, 33, 33, 128)  0           relu4_3_x2[0][0]                 \n",
      "__________________________________________________________________________________________________\n",
      "conv4_3_x2 (Conv2D)             (None, 31, 31, 32)   36864       conv4_3_x2_zeropadding[0][0]     \n",
      "__________________________________________________________________________________________________\n",
      "dropout_17 (Dropout)            (None, 31, 31, 32)   0           conv4_3_x2[0][0]                 \n",
      "__________________________________________________________________________________________________\n",
      "concat_4_3 (Concatenate)        (None, 31, 31, 320)  0           concat_4_2[0][0]                 \n",
      "                                                                 dropout_17[0][0]                 \n",
      "__________________________________________________________________________________________________\n",
      "conv4_4_x1_bn (BatchNormalizati (None, 31, 31, 320)  1280        concat_4_3[0][0]                 \n",
      "__________________________________________________________________________________________________\n",
      "conv4_4_x1_scale (Scale)        (None, 31, 31, 320)  640         conv4_4_x1_bn[0][0]              \n",
      "__________________________________________________________________________________________________\n",
      "relu4_4_x1 (Activation)         (None, 31, 31, 320)  0           conv4_4_x1_scale[0][0]           \n",
      "__________________________________________________________________________________________________\n",
      "conv4_4_x1 (Conv2D)             (None, 31, 31, 128)  40960       relu4_4_x1[0][0]                 \n",
      "__________________________________________________________________________________________________\n",
      "dropout_18 (Dropout)            (None, 31, 31, 128)  0           conv4_4_x1[0][0]                 \n",
      "__________________________________________________________________________________________________\n",
      "conv4_4_x2_bn (BatchNormalizati (None, 31, 31, 128)  512         dropout_18[0][0]                 \n",
      "__________________________________________________________________________________________________\n",
      "conv4_4_x2_scale (Scale)        (None, 31, 31, 128)  256         conv4_4_x2_bn[0][0]              \n",
      "__________________________________________________________________________________________________\n",
      "relu4_4_x2 (Activation)         (None, 31, 31, 128)  0           conv4_4_x2_scale[0][0]           \n",
      "__________________________________________________________________________________________________\n",
      "conv4_4_x2_zeropadding (ZeroPad (None, 33, 33, 128)  0           relu4_4_x2[0][0]                 \n",
      "__________________________________________________________________________________________________\n",
      "conv4_4_x2 (Conv2D)             (None, 31, 31, 32)   36864       conv4_4_x2_zeropadding[0][0]     \n",
      "__________________________________________________________________________________________________\n",
      "dropout_19 (Dropout)            (None, 31, 31, 32)   0           conv4_4_x2[0][0]                 \n",
      "__________________________________________________________________________________________________\n",
      "concat_4_4 (Concatenate)        (None, 31, 31, 352)  0           concat_4_3[0][0]                 \n",
      "                                                                 dropout_19[0][0]                 \n",
      "__________________________________________________________________________________________________\n",
      "conv4_5_x1_bn (BatchNormalizati (None, 31, 31, 352)  1408        concat_4_4[0][0]                 \n",
      "__________________________________________________________________________________________________\n",
      "conv4_5_x1_scale (Scale)        (None, 31, 31, 352)  704         conv4_5_x1_bn[0][0]              \n",
      "__________________________________________________________________________________________________\n",
      "relu4_5_x1 (Activation)         (None, 31, 31, 352)  0           conv4_5_x1_scale[0][0]           \n",
      "__________________________________________________________________________________________________\n",
      "conv4_5_x1 (Conv2D)             (None, 31, 31, 128)  45056       relu4_5_x1[0][0]                 \n",
      "__________________________________________________________________________________________________\n",
      "dropout_20 (Dropout)            (None, 31, 31, 128)  0           conv4_5_x1[0][0]                 \n",
      "__________________________________________________________________________________________________\n",
      "conv4_5_x2_bn (BatchNormalizati (None, 31, 31, 128)  512         dropout_20[0][0]                 \n",
      "__________________________________________________________________________________________________\n",
      "conv4_5_x2_scale (Scale)        (None, 31, 31, 128)  256         conv4_5_x2_bn[0][0]              \n",
      "__________________________________________________________________________________________________\n",
      "relu4_5_x2 (Activation)         (None, 31, 31, 128)  0           conv4_5_x2_scale[0][0]           \n",
      "__________________________________________________________________________________________________\n",
      "conv4_5_x2_zeropadding (ZeroPad (None, 33, 33, 128)  0           relu4_5_x2[0][0]                 \n",
      "__________________________________________________________________________________________________\n",
      "conv4_5_x2 (Conv2D)             (None, 31, 31, 32)   36864       conv4_5_x2_zeropadding[0][0]     \n",
      "__________________________________________________________________________________________________\n",
      "dropout_21 (Dropout)            (None, 31, 31, 32)   0           conv4_5_x2[0][0]                 \n",
      "__________________________________________________________________________________________________\n",
      "concat_4_5 (Concatenate)        (None, 31, 31, 384)  0           concat_4_4[0][0]                 \n",
      "                                                                 dropout_21[0][0]                 \n",
      "__________________________________________________________________________________________________\n",
      "conv4_6_x1_bn (BatchNormalizati (None, 31, 31, 384)  1536        concat_4_5[0][0]                 \n",
      "__________________________________________________________________________________________________\n",
      "conv4_6_x1_scale (Scale)        (None, 31, 31, 384)  768         conv4_6_x1_bn[0][0]              \n",
      "__________________________________________________________________________________________________\n",
      "relu4_6_x1 (Activation)         (None, 31, 31, 384)  0           conv4_6_x1_scale[0][0]           \n",
      "__________________________________________________________________________________________________\n",
      "conv4_6_x1 (Conv2D)             (None, 31, 31, 128)  49152       relu4_6_x1[0][0]                 \n",
      "__________________________________________________________________________________________________\n",
      "dropout_22 (Dropout)            (None, 31, 31, 128)  0           conv4_6_x1[0][0]                 \n",
      "__________________________________________________________________________________________________\n",
      "conv4_6_x2_bn (BatchNormalizati (None, 31, 31, 128)  512         dropout_22[0][0]                 \n",
      "__________________________________________________________________________________________________\n",
      "conv4_6_x2_scale (Scale)        (None, 31, 31, 128)  256         conv4_6_x2_bn[0][0]              \n",
      "__________________________________________________________________________________________________\n",
      "relu4_6_x2 (Activation)         (None, 31, 31, 128)  0           conv4_6_x2_scale[0][0]           \n",
      "__________________________________________________________________________________________________\n",
      "conv4_6_x2_zeropadding (ZeroPad (None, 33, 33, 128)  0           relu4_6_x2[0][0]                 \n",
      "__________________________________________________________________________________________________\n",
      "conv4_6_x2 (Conv2D)             (None, 31, 31, 32)   36864       conv4_6_x2_zeropadding[0][0]     \n",
      "__________________________________________________________________________________________________\n",
      "dropout_23 (Dropout)            (None, 31, 31, 32)   0           conv4_6_x2[0][0]                 \n",
      "__________________________________________________________________________________________________\n",
      "concat_4_6 (Concatenate)        (None, 31, 31, 416)  0           concat_4_5[0][0]                 \n",
      "                                                                 dropout_23[0][0]                 \n",
      "__________________________________________________________________________________________________\n",
      "conv4_blk_bn (BatchNormalizatio (None, 31, 31, 416)  1664        concat_4_6[0][0]                 \n",
      "__________________________________________________________________________________________________\n",
      "conv4_blk_scale (Scale)         (None, 31, 31, 416)  832         conv4_blk_bn[0][0]               \n",
      "__________________________________________________________________________________________________\n",
      "relu4_blk (Activation)          (None, 31, 31, 416)  0           conv4_blk_scale[0][0]            \n",
      "__________________________________________________________________________________________________\n",
      "conv4_blk (Conv2D)              (None, 31, 31, 416)  173056      relu4_blk[0][0]                  \n",
      "__________________________________________________________________________________________________\n",
      "dropout_24 (Dropout)            (None, 31, 31, 416)  0           conv4_blk[0][0]                  \n",
      "__________________________________________________________________________________________________\n",
      "pool4 (AveragePooling2D)        (None, 15, 15, 416)  0           dropout_24[0][0]                 \n",
      "__________________________________________________________________________________________________\n",
      "conv5_1_x1_bn (BatchNormalizati (None, 15, 15, 416)  1664        pool4[0][0]                      \n",
      "__________________________________________________________________________________________________\n",
      "conv5_1_x1_scale (Scale)        (None, 15, 15, 416)  832         conv5_1_x1_bn[0][0]              \n",
      "__________________________________________________________________________________________________\n",
      "relu5_1_x1 (Activation)         (None, 15, 15, 416)  0           conv5_1_x1_scale[0][0]           \n",
      "__________________________________________________________________________________________________\n",
      "conv5_1_x1 (Conv2D)             (None, 15, 15, 128)  53248       relu5_1_x1[0][0]                 \n",
      "__________________________________________________________________________________________________\n",
      "dropout_25 (Dropout)            (None, 15, 15, 128)  0           conv5_1_x1[0][0]                 \n",
      "__________________________________________________________________________________________________\n",
      "conv5_1_x2_bn (BatchNormalizati (None, 15, 15, 128)  512         dropout_25[0][0]                 \n",
      "__________________________________________________________________________________________________\n",
      "conv5_1_x2_scale (Scale)        (None, 15, 15, 128)  256         conv5_1_x2_bn[0][0]              \n",
      "__________________________________________________________________________________________________\n",
      "relu5_1_x2 (Activation)         (None, 15, 15, 128)  0           conv5_1_x2_scale[0][0]           \n",
      "__________________________________________________________________________________________________\n",
      "conv5_1_x2_zeropadding (ZeroPad (None, 17, 17, 128)  0           relu5_1_x2[0][0]                 \n",
      "__________________________________________________________________________________________________\n",
      "conv5_1_x2 (Conv2D)             (None, 15, 15, 32)   36864       conv5_1_x2_zeropadding[0][0]     \n",
      "__________________________________________________________________________________________________\n",
      "dropout_26 (Dropout)            (None, 15, 15, 32)   0           conv5_1_x2[0][0]                 \n",
      "__________________________________________________________________________________________________\n",
      "concat_5_1 (Concatenate)        (None, 15, 15, 448)  0           pool4[0][0]                      \n",
      "                                                                 dropout_26[0][0]                 \n",
      "__________________________________________________________________________________________________\n",
      "conv5_2_x1_bn (BatchNormalizati (None, 15, 15, 448)  1792        concat_5_1[0][0]                 \n",
      "__________________________________________________________________________________________________\n",
      "conv5_2_x1_scale (Scale)        (None, 15, 15, 448)  896         conv5_2_x1_bn[0][0]              \n",
      "__________________________________________________________________________________________________\n",
      "relu5_2_x1 (Activation)         (None, 15, 15, 448)  0           conv5_2_x1_scale[0][0]           \n",
      "__________________________________________________________________________________________________\n",
      "conv5_2_x1 (Conv2D)             (None, 15, 15, 128)  57344       relu5_2_x1[0][0]                 \n",
      "__________________________________________________________________________________________________\n",
      "dropout_27 (Dropout)            (None, 15, 15, 128)  0           conv5_2_x1[0][0]                 \n",
      "__________________________________________________________________________________________________\n",
      "conv5_2_x2_bn (BatchNormalizati (None, 15, 15, 128)  512         dropout_27[0][0]                 \n",
      "__________________________________________________________________________________________________\n",
      "conv5_2_x2_scale (Scale)        (None, 15, 15, 128)  256         conv5_2_x2_bn[0][0]              \n",
      "__________________________________________________________________________________________________\n",
      "relu5_2_x2 (Activation)         (None, 15, 15, 128)  0           conv5_2_x2_scale[0][0]           \n",
      "__________________________________________________________________________________________________\n",
      "conv5_2_x2_zeropadding (ZeroPad (None, 17, 17, 128)  0           relu5_2_x2[0][0]                 \n",
      "__________________________________________________________________________________________________\n",
      "conv5_2_x2 (Conv2D)             (None, 15, 15, 32)   36864       conv5_2_x2_zeropadding[0][0]     \n",
      "__________________________________________________________________________________________________\n",
      "dropout_28 (Dropout)            (None, 15, 15, 32)   0           conv5_2_x2[0][0]                 \n",
      "__________________________________________________________________________________________________\n",
      "concat_5_2 (Concatenate)        (None, 15, 15, 480)  0           concat_5_1[0][0]                 \n",
      "                                                                 dropout_28[0][0]                 \n",
      "__________________________________________________________________________________________________\n",
      "conv5_3_x1_bn (BatchNormalizati (None, 15, 15, 480)  1920        concat_5_2[0][0]                 \n",
      "__________________________________________________________________________________________________\n",
      "conv5_3_x1_scale (Scale)        (None, 15, 15, 480)  960         conv5_3_x1_bn[0][0]              \n",
      "__________________________________________________________________________________________________\n",
      "relu5_3_x1 (Activation)         (None, 15, 15, 480)  0           conv5_3_x1_scale[0][0]           \n",
      "__________________________________________________________________________________________________\n",
      "conv5_3_x1 (Conv2D)             (None, 15, 15, 128)  61440       relu5_3_x1[0][0]                 \n",
      "__________________________________________________________________________________________________\n",
      "dropout_29 (Dropout)            (None, 15, 15, 128)  0           conv5_3_x1[0][0]                 \n",
      "__________________________________________________________________________________________________\n",
      "conv5_3_x2_bn (BatchNormalizati (None, 15, 15, 128)  512         dropout_29[0][0]                 \n",
      "__________________________________________________________________________________________________\n",
      "conv5_3_x2_scale (Scale)        (None, 15, 15, 128)  256         conv5_3_x2_bn[0][0]              \n",
      "__________________________________________________________________________________________________\n",
      "relu5_3_x2 (Activation)         (None, 15, 15, 128)  0           conv5_3_x2_scale[0][0]           \n",
      "__________________________________________________________________________________________________\n",
      "conv5_3_x2_zeropadding (ZeroPad (None, 17, 17, 128)  0           relu5_3_x2[0][0]                 \n",
      "__________________________________________________________________________________________________\n",
      "conv5_3_x2 (Conv2D)             (None, 15, 15, 32)   36864       conv5_3_x2_zeropadding[0][0]     \n",
      "__________________________________________________________________________________________________\n",
      "dropout_30 (Dropout)            (None, 15, 15, 32)   0           conv5_3_x2[0][0]                 \n",
      "__________________________________________________________________________________________________\n",
      "concat_5_3 (Concatenate)        (None, 15, 15, 512)  0           concat_5_2[0][0]                 \n",
      "                                                                 dropout_30[0][0]                 \n",
      "__________________________________________________________________________________________________\n",
      "conv5_4_x1_bn (BatchNormalizati (None, 15, 15, 512)  2048        concat_5_3[0][0]                 \n",
      "__________________________________________________________________________________________________\n",
      "conv5_4_x1_scale (Scale)        (None, 15, 15, 512)  1024        conv5_4_x1_bn[0][0]              \n",
      "__________________________________________________________________________________________________\n",
      "relu5_4_x1 (Activation)         (None, 15, 15, 512)  0           conv5_4_x1_scale[0][0]           \n",
      "__________________________________________________________________________________________________\n",
      "conv5_4_x1 (Conv2D)             (None, 15, 15, 128)  65536       relu5_4_x1[0][0]                 \n",
      "__________________________________________________________________________________________________\n",
      "dropout_31 (Dropout)            (None, 15, 15, 128)  0           conv5_4_x1[0][0]                 \n",
      "__________________________________________________________________________________________________\n",
      "conv5_4_x2_bn (BatchNormalizati (None, 15, 15, 128)  512         dropout_31[0][0]                 \n",
      "__________________________________________________________________________________________________\n",
      "conv5_4_x2_scale (Scale)        (None, 15, 15, 128)  256         conv5_4_x2_bn[0][0]              \n",
      "__________________________________________________________________________________________________\n",
      "relu5_4_x2 (Activation)         (None, 15, 15, 128)  0           conv5_4_x2_scale[0][0]           \n",
      "__________________________________________________________________________________________________\n",
      "conv5_4_x2_zeropadding (ZeroPad (None, 17, 17, 128)  0           relu5_4_x2[0][0]                 \n",
      "__________________________________________________________________________________________________\n",
      "conv5_4_x2 (Conv2D)             (None, 15, 15, 32)   36864       conv5_4_x2_zeropadding[0][0]     \n",
      "__________________________________________________________________________________________________\n",
      "dropout_32 (Dropout)            (None, 15, 15, 32)   0           conv5_4_x2[0][0]                 \n",
      "__________________________________________________________________________________________________\n",
      "concat_5_4 (Concatenate)        (None, 15, 15, 544)  0           concat_5_3[0][0]                 \n",
      "                                                                 dropout_32[0][0]                 \n",
      "__________________________________________________________________________________________________\n",
      "conv5_blk_bn (BatchNormalizatio (None, 15, 15, 544)  2176        concat_5_4[0][0]                 \n",
      "__________________________________________________________________________________________________\n",
      "conv5_blk_scale (Scale)         (None, 15, 15, 544)  1088        conv5_blk_bn[0][0]               \n",
      "__________________________________________________________________________________________________\n",
      "relu5_blk (Activation)          (None, 15, 15, 544)  0           conv5_blk_scale[0][0]            \n",
      "__________________________________________________________________________________________________\n",
      "pool5_blk (GlobalAveragePooling (None, 544)          0           relu5_blk[0][0]                  \n",
      "__________________________________________________________________________________________________\n",
      "fc6 (Dense)                     (None, 102)          55590       pool5_blk[0][0]                  \n",
      "__________________________________________________________________________________________________\n",
      "prob (Activation)               (None, 102)          0           fc6[0][0]                        \n",
      "==================================================================================================\n",
      "Total params: 1,456,230\n",
      "Trainable params: 1,440,998\n",
      "Non-trainable params: 15,232\n",
      "__________________________________________________________________________________________________\n"
     ]
    }
   ],
   "source": [
    "DenseNetModel = DenseNet(classes=102)"
   ]
  },
  {
   "cell_type": "code",
   "execution_count": 14,
   "metadata": {},
   "outputs": [],
   "source": [
    "lr_fn = tf.optimizers.schedules.PiecewiseConstantDecay([100, 150, 200], [0.1, 0.05, 0.005, 0.0005])\n",
    "DenseNetModel.compile(optimizer= tf.optimizers.Adam(0.0001), loss='categorical_crossentropy', \n",
    "                      metrics=['accuracy', tf.keras.metrics.Precision(), tf.keras.metrics.Recall()])\n",
    "\n",
    "log_dir=\"logs/fit/\" + datetime.datetime.now().strftime(\"%Y%m%d-%H%M%S\")\n",
    "\n",
    "class mycallback(tf.keras.callbacks.Callback):\n",
    "    def on_epoch_end(self, epoch, logs={}):\n",
    "        if (logs.get('accuracy')>.95):\n",
    "            print(\"\\nReached 95% accuracy!\")\n",
    "            self.model.stop_training = True\n",
    "\n",
    "myCallback = mycallback()\n",
    "\n",
    "callbacks = [tf.keras.callbacks.EarlyStopping(monitor='val_loss', patience=5),\n",
    "             tf.keras.callbacks.TensorBoard(log_dir=log_dir, histogram_freq=1), myCallback,\n",
    "             tf.keras.callbacks.ModelCheckpoint('densenet_flower_class_mark03.h5', verbose=1, save_best_only=True, save_weights_only=True)]"
   ]
  },
  {
   "cell_type": "code",
   "execution_count": 15,
   "metadata": {},
   "outputs": [
    {
     "data": {
      "text/html": [
       "\n",
       "      <iframe id=\"tensorboard-frame-7468dc0f9980cc0\" width=\"100%\" height=\"800\" frameborder=\"0\">\n",
       "      </iframe>\n",
       "      <script>\n",
       "        (function() {\n",
       "          const frame = document.getElementById(\"tensorboard-frame-7468dc0f9980cc0\");\n",
       "          const url = new URL(\"/\", window.location);\n",
       "          url.port = 6007;\n",
       "          frame.src = url;\n",
       "        })();\n",
       "      </script>\n",
       "  "
      ],
      "text/plain": [
       "<IPython.core.display.HTML object>"
      ]
     },
     "metadata": {},
     "output_type": "display_data"
    }
   ],
   "source": [
    "%tensorboard --logdir logs/fit"
   ]
  },
  {
   "cell_type": "code",
   "execution_count": 16,
   "metadata": {
    "scrolled": false
   },
   "outputs": [
    {
     "name": "stdout",
     "output_type": "stream",
     "text": [
      "Epoch 1/50\n",
      "631/632 [============================>.] - ETA: 0s - loss: 3.9443 - accuracy: 0.1295 - precision: 0.5667 - recall: 0.0017\n",
      "Epoch 00001: val_loss improved from inf to 3.77734, saving model to densenet_flower_class_mark03.h5\n",
      "632/632 [==============================] - 559s 885ms/step - loss: 3.9437 - accuracy: 0.1294 - precision: 0.5667 - recall: 0.0017 - val_loss: 3.7773 - val_accuracy: 0.0941 - val_precision: 0.5714 - val_recall: 0.0088\n",
      "Epoch 2/50\n",
      "631/632 [============================>.] - ETA: 0s - loss: 3.3036 - accuracy: 0.2270 - precision: 0.6953 - recall: 0.0088\n",
      "Epoch 00002: val_loss improved from 3.77734 to 3.18133, saving model to densenet_flower_class_mark03.h5\n",
      "632/632 [==============================] - 556s 879ms/step - loss: 3.3034 - accuracy: 0.2269 - precision: 0.6953 - recall: 0.0088 - val_loss: 3.1813 - val_accuracy: 0.2346 - val_precision: 0.6122 - val_recall: 0.0441\n",
      "Epoch 3/50\n",
      "631/632 [============================>.] - ETA: 0s - loss: 2.9825 - accuracy: 0.2912 - precision: 0.7649 - recall: 0.0293\n",
      "Epoch 00003: val_loss improved from 3.18133 to 2.95661, saving model to densenet_flower_class_mark03.h5\n",
      "632/632 [==============================] - 552s 874ms/step - loss: 2.9829 - accuracy: 0.2912 - precision: 0.7629 - recall: 0.0293 - val_loss: 2.9566 - val_accuracy: 0.2882 - val_precision: 0.5748 - val_recall: 0.1272\n",
      "Epoch 4/50\n",
      "631/632 [============================>.] - ETA: 0s - loss: 2.7708 - accuracy: 0.3222 - precision: 0.8373 - recall: 0.0525\n",
      "Epoch 00004: val_loss improved from 2.95661 to 2.87558, saving model to densenet_flower_class_mark03.h5\n",
      "632/632 [==============================] - 558s 882ms/step - loss: 2.7704 - accuracy: 0.3223 - precision: 0.8373 - recall: 0.0524 - val_loss: 2.8756 - val_accuracy: 0.2853 - val_precision: 0.5308 - val_recall: 0.1713\n",
      "Epoch 5/50\n",
      "631/632 [============================>.] - ETA: 0s - loss: 2.6000 - accuracy: 0.3566 - precision: 0.8552 - recall: 0.0801\n",
      "Epoch 00005: val_loss improved from 2.87558 to 2.81453, saving model to densenet_flower_class_mark03.h5\n",
      "632/632 [==============================] - 557s 881ms/step - loss: 2.6008 - accuracy: 0.3565 - precision: 0.8553 - recall: 0.0801 - val_loss: 2.8145 - val_accuracy: 0.3184 - val_precision: 0.5537 - val_recall: 0.1706\n",
      "Epoch 6/50\n",
      "631/632 [============================>.] - ETA: 0s - loss: 2.4736 - accuracy: 0.3850 - precision: 0.8670 - recall: 0.1059\n",
      "Epoch 00006: val_loss improved from 2.81453 to 2.77425, saving model to densenet_flower_class_mark03.h5\n",
      "632/632 [==============================] - 558s 883ms/step - loss: 2.4743 - accuracy: 0.3846 - precision: 0.8664 - recall: 0.1058 - val_loss: 2.7743 - val_accuracy: 0.3544 - val_precision: 0.5772 - val_recall: 0.2088\n",
      "Epoch 7/50\n",
      "631/632 [============================>.] - ETA: 0s - loss: 2.3421 - accuracy: 0.4159 - precision: 0.8767 - recall: 0.1303\n",
      "Epoch 00007: val_loss did not improve from 2.77425\n",
      "632/632 [==============================] - 559s 885ms/step - loss: 2.3420 - accuracy: 0.4158 - precision: 0.8768 - recall: 0.1303 - val_loss: 2.7759 - val_accuracy: 0.3596 - val_precision: 0.5289 - val_recall: 0.2559\n",
      "Epoch 8/50\n",
      "631/632 [============================>.] - ETA: 0s - loss: 2.2640 - accuracy: 0.4283 - precision: 0.8755 - recall: 0.1491\n",
      "Epoch 00008: val_loss did not improve from 2.77425\n",
      "632/632 [==============================] - 557s 882ms/step - loss: 2.2639 - accuracy: 0.4284 - precision: 0.8759 - recall: 0.1494 - val_loss: 2.8638 - val_accuracy: 0.3654 - val_precision: 0.5540 - val_recall: 0.2676\n",
      "Epoch 9/50\n",
      "631/632 [============================>.] - ETA: 0s - loss: 2.1762 - accuracy: 0.4510 - precision: 0.8702 - recall: 0.1707\n",
      "Epoch 00009: val_loss did not improve from 2.77425\n",
      "632/632 [==============================] - 559s 885ms/step - loss: 2.1764 - accuracy: 0.4507 - precision: 0.8704 - recall: 0.1707 - val_loss: 2.8706 - val_accuracy: 0.3581 - val_precision: 0.5460 - val_recall: 0.2662\n",
      "Epoch 10/50\n",
      "631/632 [============================>.] - ETA: 0s - loss: 2.0859 - accuracy: 0.4701 - precision: 0.8799 - recall: 0.1879\n",
      "Epoch 00010: val_loss improved from 2.77425 to 2.71077, saving model to densenet_flower_class_mark03.h5\n",
      "632/632 [==============================] - 557s 881ms/step - loss: 2.0862 - accuracy: 0.4700 - precision: 0.8799 - recall: 0.1877 - val_loss: 2.7108 - val_accuracy: 0.3949 - val_precision: 0.5628 - val_recall: 0.2963\n",
      "Epoch 11/50\n",
      "631/632 [============================>.] - ETA: 0s - loss: 2.0177 - accuracy: 0.4868 - precision: 0.8803 - recall: 0.2099\n",
      "Epoch 00011: val_loss improved from 2.71077 to 2.62832, saving model to densenet_flower_class_mark03.h5\n",
      "632/632 [==============================] - 554s 877ms/step - loss: 2.0168 - accuracy: 0.4872 - precision: 0.8807 - recall: 0.2104 - val_loss: 2.6283 - val_accuracy: 0.4096 - val_precision: 0.5642 - val_recall: 0.3265\n",
      "Epoch 12/50\n",
      "631/632 [============================>.] - ETA: 0s - loss: 1.9332 - accuracy: 0.5049 - precision: 0.8861 - recall: 0.2327\n",
      "Epoch 00012: val_loss did not improve from 2.62832\n",
      "632/632 [==============================] - 558s 883ms/step - loss: 1.9345 - accuracy: 0.5047 - precision: 0.8855 - recall: 0.2324 - val_loss: 2.7810 - val_accuracy: 0.4110 - val_precision: 0.5738 - val_recall: 0.3287\n",
      "Epoch 13/50\n",
      "631/632 [============================>.] - ETA: 0s - loss: 1.8831 - accuracy: 0.5133 - precision: 0.8793 - recall: 0.2468\n",
      "Epoch 00013: val_loss did not improve from 2.62832\n",
      "632/632 [==============================] - 555s 878ms/step - loss: 1.8832 - accuracy: 0.5133 - precision: 0.8792 - recall: 0.2470 - val_loss: 3.2851 - val_accuracy: 0.3588 - val_precision: 0.4814 - val_recall: 0.2956\n",
      "Epoch 14/50\n",
      "631/632 [============================>.] - ETA: 0s - loss: 1.7945 - accuracy: 0.5297 - precision: 0.8840 - recall: 0.2696\n",
      "Epoch 00014: val_loss did not improve from 2.62832\n",
      "632/632 [==============================] - 556s 880ms/step - loss: 1.7943 - accuracy: 0.5299 - precision: 0.8837 - recall: 0.2698 - val_loss: 3.0305 - val_accuracy: 0.3956 - val_precision: 0.5169 - val_recall: 0.3265\n",
      "Epoch 15/50\n",
      "631/632 [============================>.] - ETA: 0s - loss: 1.7526 - accuracy: 0.5464 - precision: 0.8810 - recall: 0.2822\n",
      "Epoch 00015: val_loss improved from 2.62832 to 2.50564, saving model to densenet_flower_class_mark03.h5\n",
      "632/632 [==============================] - 564s 892ms/step - loss: 1.7526 - accuracy: 0.5464 - precision: 0.8812 - recall: 0.2824 - val_loss: 2.5056 - val_accuracy: 0.4559 - val_precision: 0.6131 - val_recall: 0.3728\n",
      "Epoch 16/50\n",
      "631/632 [============================>.] - ETA: 0s - loss: 1.6812 - accuracy: 0.5609 - precision: 0.8822 - recall: 0.3049\n",
      "Epoch 00016: val_loss did not improve from 2.50564\n",
      "632/632 [==============================] - 561s 887ms/step - loss: 1.6811 - accuracy: 0.5610 - precision: 0.8823 - recall: 0.3048 - val_loss: 2.5610 - val_accuracy: 0.4353 - val_precision: 0.5775 - val_recall: 0.3669\n",
      "Epoch 17/50\n",
      "631/632 [============================>.] - ETA: 0s - loss: 1.6254 - accuracy: 0.5772 - precision: 0.8828 - recall: 0.3165\n",
      "Epoch 00017: val_loss did not improve from 2.50564\n",
      "632/632 [==============================] - 567s 897ms/step - loss: 1.6253 - accuracy: 0.5773 - precision: 0.8830 - recall: 0.3165 - val_loss: 3.0460 - val_accuracy: 0.4000 - val_precision: 0.5204 - val_recall: 0.3375\n",
      "Epoch 18/50\n",
      "631/632 [============================>.] - ETA: 0s - loss: 1.5781 - accuracy: 0.5853 - precision: 0.8865 - recall: 0.3396\n",
      "Epoch 00018: val_loss did not improve from 2.50564\n",
      "632/632 [==============================] - 553s 874ms/step - loss: 1.5780 - accuracy: 0.5853 - precision: 0.8864 - recall: 0.3396 - val_loss: 2.8591 - val_accuracy: 0.4169 - val_precision: 0.5232 - val_recall: 0.3654\n",
      "Epoch 19/50\n",
      "631/632 [============================>.] - ETA: 0s - loss: 1.5208 - accuracy: 0.6021 - precision: 0.8839 - recall: 0.3501\n",
      "Epoch 00019: val_loss did not improve from 2.50564\n",
      "632/632 [==============================] - 556s 880ms/step - loss: 1.5197 - accuracy: 0.6027 - precision: 0.8842 - recall: 0.3504 - val_loss: 2.8386 - val_accuracy: 0.4250 - val_precision: 0.5419 - val_recall: 0.3662\n",
      "Epoch 20/50\n",
      "631/632 [============================>.] - ETA: 0s - loss: 1.4647 - accuracy: 0.6168 - precision: 0.8918 - recall: 0.3747\n",
      "Epoch 00020: val_loss did not improve from 2.50564\n",
      "632/632 [==============================] - 551s 872ms/step - loss: 1.4643 - accuracy: 0.6170 - precision: 0.8920 - recall: 0.3749 - val_loss: 3.2189 - val_accuracy: 0.4169 - val_precision: 0.4975 - val_recall: 0.3721\n"
     ]
    }
   ],
   "source": [
    "history = DenseNetModel.fit_generator(train_generator, steps_per_epoch=2*(train_generator.samples//train_generator.batch_size), validation_data=valid_generator,validation_steps=valid_generator.samples//valid_generator.batch_size , callbacks=callbacks, verbose=1, epochs=50, use_multiprocessing=True)"
   ]
  },
  {
   "cell_type": "code",
   "execution_count": 15,
   "metadata": {},
   "outputs": [],
   "source": [
    "DenseNetModel.load_weights('densenet_flower_class_mark03.h5')"
   ]
  },
  {
   "cell_type": "code",
   "execution_count": 18,
   "metadata": {},
   "outputs": [],
   "source": [
    "filenames = test_generator.filenames\n",
    "nb_samples = len(filenames)\n",
    "\n",
    "predict = DenseNetModel.predict_generator(test_generator,steps = nb_samples)06031995"
   ]
  },
  {
   "cell_type": "code",
   "execution_count": 19,
   "metadata": {},
   "outputs": [
    {
     "data": {
      "text/plain": [
       "[15.12445768878483, 0.06031995, 0.06031995, 0.06031995]"
      ]
     },
     "execution_count": 19,
     "metadata": {},
     "output_type": "execute_result"
    }
   ],
   "source": [
    "DenseNetModel.evaluate_generator(test_generator,steps = nb_samples)"
   ]
  },
  {
   "cell_type": "code",
   "execution_count": 20,
   "metadata": {},
   "outputs": [
    {
     "data": {
      "text/plain": [
       "<matplotlib.legend.Legend at 0x7fdfe80f53d0>"
      ]
     },
     "execution_count": 20,
     "metadata": {},
     "output_type": "execute_result"
    },
    {
     "data": {
      "image/png": "[encoded data removed]",
      "text/plain": [
       "<Figure size 1080x576 with 1 Axes>"
      ]
     },
     "metadata": {
      "needs_background": "light"
     },
     "output_type": "display_data"
    }
   ],
   "source": [
    "plt.figure(figsize=(15,8))\n",
    "plt.plot(history.history['accuracy'], label='accuracy')\n",
    "plt.plot(history.history['loss'], label='loss')\n",
    "plt.plot(history.history['precision'], label='precision')\n",
    "plt.plot(history.history['recall'], label='recall')\n",
    "plt.plot(history.history['val_loss'], label='val_loss')\n",
    "plt.plot(history.history['val_accuracy'], label='val_accuracy')\n",
    "plt.plot(history.history['val_precision'], label='val_precision')\n",
    "plt.plot(history.history['val_recall'], label='val_recall')\n",
    "plt.xlabel('Epoch')\n",
    "plt.legend()"
   ]
  },
  {
   "cell_type": "code",
   "execution_count": 22,
   "metadata": {},
   "outputs": [
    {
     "name": "stdout",
     "output_type": "stream",
     "text": [
      "Failed to import pydot. You must install pydot and graphviz for `pydotprint` to work.\n"
     ]
    }
   ],
   "source": [
    "tf.keras.utils.plot_model(DenseNetModel, \n",
    "                          to_file= 'model.png',\n",
    "                          show_shapes= True,\n",
    "                          show_layer_names= True,\n",
    "                          rankdir= 'TB',\n",
    "                          expand_nested= True,\n",
    "                          dpi= 96)"
   ]
  },
  {
   "cell_type": "code",
   "execution_count": 24,
   "metadata": {},
   "outputs": [
    {
     "data": {
      "text/plain": [
       "[2.4535169650969615, 0.46780917, 0.59886086, 0.3933445]"
      ]
     },
     "execution_count": 24,
     "metadata": {},
     "output_type": "execute_result"
    }
   ],
   "source": [
    "DenseNetModel.evaluate_generator(test_generator2,steps = nb_samples)"
   ]
  },
  {
   "cell_type": "code",
   "execution_count": 27,
   "metadata": {},
   "outputs": [
    {
     "data": {
      "text/plain": [
       "Text(0, 0.5, 'precision')"
      ]
     },
     "execution_count": 27,
     "metadata": {},
     "output_type": "execute_result"
    },
    {
     "data": {
      "image/png": "[encoded data removed]",
      "text/plain": [
       "<Figure size 432x288 with 1 Axes>"
      ]
     },
     "metadata": {
      "needs_background": "light"
     },
     "output_type": "display_data"
    }
   ],
   "source": [
    "plt.plot(history.history['recall'], history.history['precision'])\n",
    "plt.xlabel('recall')\n",
    "plt.ylabel('precision')"
   ]
  },
  {
   "cell_type": "code",
   "execution_count": 35,
   "metadata": {},
   "outputs": [],
   "source": [
    "predict2 = DenseNetModel.predict_generator(test_generator2,steps = nb_samples)"
   ]
  },
  {
   "cell_type": "code",
   "execution_count": 47,
   "metadata": {
    "scrolled": false
   },
   "outputs": [
    {
     "name": "stderr",
     "output_type": "stream",
     "text": [
      "Clipping input data to the valid range for imshow with RGB data ([0..1] for floats or [0..255] for integers).\n"
     ]
    },
    {
     "data": {
      "text/plain": [
       "48"
      ]
     },
     "execution_count": 47,
     "metadata": {},
     "output_type": "execute_result"
    },
    {
     "data": {
      "image/png": "[encoded data removed]",
      "text/plain": [
       "<Figure size 432x288 with 1 Axes>"
      ]
     },
     "metadata": {
      "needs_background": "light"
     },
     "output_type": "display_data"
    }
   ],
   "source": [
    "plt.imshow(test_generator2.next()[0][0])\n",
    "tf.argmax(test_generator2.next()[1][0]).numpy()"
   ]
  },
  {
   "cell_type": "code",
   "execution_count": 65,
   "metadata": {},
   "outputs": [
    {
     "name": "stdout",
     "output_type": "stream",
     "text": [
      "110/110 [==============================] - 30s 277ms/step\n"
     ]
    }
   ],
   "source": [
    "STEP_SIZE_TEST=test_generator2.n//test_generator2.batch_size+1\n",
    "test_generator2.reset()\n",
    "pred=DenseNetModel.predict_generator(test_generator2,\n",
    "steps=STEP_SIZE_TEST,\n",
    "verbose=1)"
   ]
  },
  {
   "cell_type": "code",
   "execution_count": 70,
   "metadata": {},
   "outputs": [
    {
     "name": "stdout",
     "output_type": "stream",
     "text": [
      "110/110 [==============================] - 33s 298ms/step - loss: 2.4538 - accuracy: 0.4678 - precision: 0.5988 - recall: 0.3933\n"
     ]
    },
    {
     "data": {
      "text/plain": [
       "[2.453777003288269, 0.4678429, 0.59878683, 0.393284]"
      ]
     },
     "execution_count": 70,
     "metadata": {},
     "output_type": "execute_result"
    }
   ],
   "source": [
    "DenseNetModel.evaluate_generator(test_generator2,steps = STEP_SIZE_TEST, verbose=1)"
   ]
  },
  {
   "cell_type": "code",
   "execution_count": 21,
   "metadata": {
    "collapsed": true
   },
   "outputs": [
    {
     "name": "stdout",
     "output_type": "stream",
     "text": [
      "110/110 [==============================] - 31s 279ms/step\n",
      "confusion matrix testset\n",
      "[[0 0 0 ... 0 0 0]\n",
      " [0 0 0 ... 0 0 0]\n",
      " [0 0 0 ... 0 0 0]\n",
      " ...\n",
      " [0 0 0 ... 0 0 0]\n",
      " [0 0 1 ... 0 0 0]\n",
      " [0 0 0 ... 1 0 0]]\n"
     ]
    }
   ],
   "source": [
    "from sklearn.metrics import classification_report, confusion_matrix\n",
    "test_generator2.reset()\n",
    "\n",
    "lab_pred = DenseNetModel.predict_generator(test_generator2, 1757 // 16 +1, verbose=1)\n",
    "lab_pred = np.argmax(lab_pred, axis=1)\n",
    "print('confusion matrix testset')\n",
    "print(confusion_matrix(test_generator2.classes, lab_pred))\n"
   ]
  },
  {
   "cell_type": "code",
   "execution_count": 18,
   "metadata": {
    "collapsed": true
   },
   "outputs": [
    {
     "name": "stdout",
     "output_type": "stream",
     "text": [
      "calssification report testset\n",
      "              precision    recall  f1-score   support\n",
      "\n",
      "     class 1       0.00      0.00      0.00        10\n",
      "     class 2       0.11      0.08      0.10        12\n",
      "     class 3       0.00      0.00      0.00        12\n",
      "     class 4       0.00      0.00      0.00        14\n",
      "     class 5       0.00      0.00      0.00        12\n",
      "     class 6       0.00      0.00      0.00        18\n",
      "     class 7       0.00      0.00      0.00        16\n",
      "     class 8       0.00      0.00      0.00        12\n",
      "     class 9       0.00      0.00      0.00         8\n",
      "    class 10       0.00      0.00      0.00        11\n",
      "    class 11       0.00      0.00      0.00        12\n",
      "    class 12       0.00      0.00      0.00        24\n",
      "    class 13       0.00      0.00      0.00        18\n",
      "    class 14       0.00      0.00      0.00         8\n",
      "    class 15       0.00      0.00      0.00        11\n",
      "    class 16       0.00      0.00      0.00        11\n",
      "    class 17       0.00      0.00      0.00        10\n",
      "    class 18       0.00      0.00      0.00        11\n",
      "    class 19       0.00      0.00      0.00        30\n",
      "    class 20       0.00      0.00      0.00         6\n",
      "    class 21       0.00      0.00      0.00         5\n",
      "    class 22       0.00      0.00      0.00        10\n",
      "    class 23       0.00      0.00      0.00         7\n",
      "    class 24       0.00      0.00      0.00        12\n",
      "    class 25       0.00      0.00      0.00        17\n",
      "    class 26       0.00      0.00      0.00         7\n",
      "    class 27       0.00      0.00      0.00        17\n",
      "    class 28       0.00      0.00      0.00        14\n",
      "    class 29       0.00      0.00      0.00        11\n",
      "    class 30       0.00      0.00      0.00         7\n",
      "    class 31       0.00      0.00      0.00        10\n",
      "    class 32       0.00      0.00      0.00        10\n",
      "    class 33       0.00      0.00      0.00        12\n",
      "    class 34       0.00      0.00      0.00        22\n",
      "    class 35       0.00      0.00      0.00         9\n",
      "    class 36       0.00      0.00      0.00        11\n",
      "    class 37       0.00      0.00      0.00        10\n",
      "    class 38       0.00      0.00      0.00        14\n",
      "    class 39       0.00      0.00      0.00        30\n",
      "    class 40       0.00      0.00      0.00        16\n",
      "    class 41       0.14      0.04      0.06        28\n",
      "    class 42       0.00      0.00      0.00        27\n",
      "    class 43       0.00      0.00      0.00         7\n",
      "    class 44       0.06      0.05      0.05        43\n",
      "    class 45       0.00      0.00      0.00        18\n",
      "    class 46       0.00      0.00      0.00        15\n",
      "    class 47       0.00      0.00      0.00         8\n",
      "    class 48       0.10      0.12      0.11         8\n",
      "    class 49       0.00      0.00      0.00        20\n",
      "    class 50       0.05      0.04      0.04        55\n",
      "    class 51       0.00      0.00      0.00        26\n",
      "    class 52       0.00      0.00      0.00        20\n",
      "    class 53       0.00      0.00      0.00        11\n",
      "    class 54       0.00      0.00      0.00        17\n",
      "    class 55       0.00      0.00      0.00        25\n",
      "    class 56       0.00      0.00      0.00        11\n",
      "    class 57       0.00      0.00      0.00        33\n",
      "    class 58       0.00      0.00      0.00        18\n",
      "    class 59       0.00      0.00      0.00        10\n",
      "    class 60       0.00      0.00      0.00        17\n",
      "    class 61       0.00      0.00      0.00         8\n",
      "    class 62       0.00      0.00      0.00         9\n",
      "    class 63       0.00      0.00      0.00        17\n",
      "    class 64       0.00      0.00      0.00        13\n",
      "    class 65       0.11      0.16      0.13        19\n",
      "    class 66       0.00      0.00      0.00        13\n",
      "    class 67       0.00      0.00      0.00        13\n",
      "    class 68       0.00      0.00      0.00        15\n",
      "    class 69       0.08      0.06      0.07        17\n",
      "    class 70       0.00      0.00      0.00         5\n",
      "    class 71       0.00      0.00      0.00        14\n",
      "    class 72       0.04      0.05      0.04        22\n",
      "    class 73       0.00      0.00      0.00        18\n",
      "    class 74       0.02      0.02      0.02        46\n",
      "    class 75       0.06      0.06      0.06        31\n",
      "    class 76       0.00      0.00      0.00        21\n",
      "    class 77       0.00      0.00      0.00        22\n",
      "    class 78       0.04      0.07      0.05        43\n",
      "    class 79       0.01      0.03      0.02        29\n",
      "    class 80       0.00      0.00      0.00        12\n",
      "    class 81       0.00      0.00      0.00        18\n",
      "    class 82       0.02      0.04      0.03        25\n",
      "    class 83       0.00      0.00      0.00        35\n",
      "    class 84       0.00      0.00      0.00        22\n",
      "    class 85       0.00      0.00      0.00        25\n",
      "    class 86       0.00      0.00      0.00        16\n",
      "    class 87       0.05      0.07      0.06        15\n",
      "    class 88       0.00      0.00      0.00        12\n",
      "    class 89       0.00      0.00      0.00        14\n",
      "    class 90       0.04      0.03      0.03        35\n",
      "    class 91       0.08      0.05      0.06        41\n",
      "    class 92       0.00      0.00      0.00        12\n",
      "    class 93       0.00      0.00      0.00        17\n",
      "    class 94       0.00      0.00      0.00        17\n",
      "    class 95       0.11      0.06      0.08        17\n",
      "    class 96       0.00      0.00      0.00        11\n",
      "    class 97       0.00      0.00      0.00        26\n",
      "    class 98       0.00      0.00      0.00        23\n",
      "    class 99       0.00      0.00      0.00        14\n",
      "   class 100       0.00      0.00      0.00         8\n",
      "   class 101       0.00      0.00      0.00        19\n",
      "   class 102       0.00      0.00      0.00        14\n",
      "\n",
      "    accuracy                           0.01      1757\n",
      "   macro avg       0.01      0.01      0.01      1757\n",
      "weighted avg       0.02      0.01      0.01      1757\n",
      "\n"
     ]
    },
    {
     "name": "stderr",
     "output_type": "stream",
     "text": [
      "/home/student/anaconda3/envs/DLmodel/lib/python3.7/site-packages/sklearn/metrics/classification.py:1437: UndefinedMetricWarning: Precision and F-score are ill-defined and being set to 0.0 in labels with no predicted samples.\n",
      "  'precision', 'predicted', average, warn_for)\n"
     ]
    }
   ],
   "source": [
    "target_names = ['class {}'.format(i) for i in range(1,103)]\n",
    "print('calssification report testset')\n",
    "print(classification_report(test_generator2.classes, lab_pred, target_names=target_names))"
   ]
  },
  {
   "cell_type": "code",
   "execution_count": 20,
   "metadata": {
    "collapsed": true
   },
   "outputs": [
    {
     "name": "stdout",
     "output_type": "stream",
     "text": [
      "86/86 [==============================] - 66s 763ms/step\n",
      "confusion matrix validation set\n",
      "[[0 0 0 ... 0 0 0]\n",
      " [0 0 0 ... 0 0 0]\n",
      " [0 0 0 ... 0 0 0]\n",
      " ...\n",
      " [0 0 0 ... 0 0 0]\n",
      " [0 0 0 ... 1 0 0]\n",
      " [0 0 0 ... 0 0 0]]\n",
      "calssification report validatoin set\n",
      "              precision    recall  f1-score   support\n",
      "\n",
      "     class 1       0.00      0.00      0.00         6\n",
      "     class 2       0.00      0.00      0.00         7\n",
      "     class 3       0.00      0.00      0.00         8\n",
      "     class 4       0.00      0.00      0.00         9\n",
      "     class 5       0.00      0.00      0.00         7\n",
      "     class 6       0.00      0.00      0.00        15\n",
      "     class 7       0.00      0.00      0.00        15\n",
      "     class 8       0.00      0.00      0.00         8\n",
      "     class 9       0.00      0.00      0.00         8\n",
      "    class 10       0.00      0.00      0.00         8\n",
      "    class 11       0.00      0.00      0.00         6\n",
      "    class 12       0.00      0.00      0.00        13\n",
      "    class 13       0.00      0.00      0.00        14\n",
      "    class 14       0.00      0.00      0.00         9\n",
      "    class 15       0.00      0.00      0.00        10\n",
      "    class 16       0.00      0.00      0.00         9\n",
      "    class 17       0.00      0.00      0.00         6\n",
      "    class 18       0.00      0.00      0.00        10\n",
      "    class 19       0.00      0.00      0.00        13\n",
      "    class 20       0.00      0.00      0.00         7\n",
      "    class 21       0.00      0.00      0.00         7\n",
      "    class 22       0.00      0.00      0.00         6\n",
      "    class 23       0.00      0.00      0.00         7\n",
      "    class 24       0.00      0.00      0.00        11\n",
      "    class 25       0.09      0.08      0.08        13\n",
      "    class 26       0.00      0.00      0.00         7\n",
      "    class 27       0.00      0.00      0.00        14\n",
      "    class 28       0.00      0.00      0.00         8\n",
      "    class 29       0.00      0.00      0.00         7\n",
      "    class 30       0.00      0.00      0.00         8\n",
      "    class 31       0.00      0.00      0.00         6\n",
      "    class 32       0.00      0.00      0.00         7\n",
      "    class 33       0.10      0.08      0.09        13\n",
      "    class 34       0.00      0.00      0.00        18\n",
      "    class 35       0.00      0.00      0.00        10\n",
      "    class 36       0.00      0.00      0.00         6\n",
      "    class 37       0.00      0.00      0.00        10\n",
      "    class 38       0.00      0.00      0.00        11\n",
      "    class 39       0.00      0.00      0.00        21\n",
      "    class 40       0.00      0.00      0.00         9\n",
      "    class 41       0.00      0.00      0.00        22\n",
      "    class 42       0.00      0.00      0.00        14\n",
      "    class 43       0.00      0.00      0.00         7\n",
      "    class 44       0.04      0.03      0.03        33\n",
      "    class 45       0.00      0.00      0.00        10\n",
      "    class 46       0.00      0.00      0.00        12\n",
      "    class 47       0.00      0.00      0.00         9\n",
      "    class 48       0.00      0.00      0.00        12\n",
      "    class 49       0.00      0.00      0.00        15\n",
      "    class 50       0.00      0.00      0.00        44\n",
      "    class 51       0.00      0.00      0.00        12\n",
      "    class 52       0.00      0.00      0.00        16\n",
      "    class 53       0.00      0.00      0.00        11\n",
      "    class 54       0.00      0.00      0.00        11\n",
      "    class 55       0.00      0.00      0.00        18\n",
      "    class 56       0.00      0.00      0.00        12\n",
      "    class 57       0.00      0.00      0.00        17\n",
      "    class 58       0.00      0.00      0.00        10\n",
      "    class 59       0.00      0.00      0.00         7\n",
      "    class 60       0.03      0.05      0.04        20\n",
      "    class 61       0.00      0.00      0.00         9\n",
      "    class 62       0.00      0.00      0.00        10\n",
      "    class 63       0.00      0.00      0.00         8\n",
      "    class 64       0.05      0.12      0.07         8\n",
      "    class 65       0.00      0.00      0.00        18\n",
      "    class 66       0.00      0.00      0.00        10\n",
      "    class 67       0.00      0.00      0.00         6\n",
      "    class 68       0.00      0.00      0.00         8\n",
      "    class 69       0.00      0.00      0.00         8\n",
      "    class 70       0.00      0.00      0.00         7\n",
      "    class 71       0.00      0.00      0.00        10\n",
      "    class 72       0.00      0.00      0.00        12\n",
      "    class 73       0.00      0.00      0.00        17\n",
      "    class 74       0.00      0.00      0.00        32\n",
      "    class 75       0.00      0.00      0.00        30\n",
      "    class 76       0.00      0.00      0.00        21\n",
      "    class 77       0.00      0.00      0.00        18\n",
      "    class 78       0.04      0.07      0.05        45\n",
      "    class 79       0.01      0.04      0.02        23\n",
      "    class 80       0.00      0.00      0.00         6\n",
      "    class 81       0.04      0.07      0.05        14\n",
      "    class 82       0.03      0.06      0.04        17\n",
      "    class 83       0.00      0.00      0.00        28\n",
      "    class 84       0.00      0.00      0.00        19\n",
      "    class 85       0.00      0.00      0.00        23\n",
      "    class 86       0.00      0.00      0.00        15\n",
      "    class 87       0.04      0.10      0.06        10\n",
      "    class 88       0.00      0.00      0.00        10\n",
      "    class 89       0.00      0.00      0.00        10\n",
      "    class 90       0.00      0.00      0.00        26\n",
      "    class 91       0.05      0.03      0.04        31\n",
      "    class 92       0.00      0.00      0.00         7\n",
      "    class 93       0.00      0.00      0.00        14\n",
      "    class 94       0.00      0.00      0.00        12\n",
      "    class 95       0.00      0.00      0.00        10\n",
      "    class 96       0.00      0.00      0.00         7\n",
      "    class 97       0.00      0.00      0.00        29\n",
      "    class 98       0.00      0.00      0.00        23\n",
      "    class 99       0.00      0.00      0.00        16\n",
      "   class 100       0.00      0.00      0.00        12\n",
      "   class 101       0.00      0.00      0.00        13\n",
      "   class 102       0.00      0.00      0.00        10\n",
      "\n",
      "    accuracy                           0.01      1361\n",
      "   macro avg       0.01      0.01      0.01      1361\n",
      "weighted avg       0.01      0.01      0.01      1361\n",
      "\n"
     ]
    }
   ],
   "source": [
    "target_names2 = ['class {}'.format(i) for i in range(1,103)]\n",
    "valid_pred = DenseNetModel.predict_generator(valid_generator, 1361 // 16 +1, verbose=1)\n",
    "valid_pred = np.argmax(valid_pred, axis=1)\n",
    "print('confusion matrix validation set')\n",
    "print(confusion_matrix(valid_generator.classes, valid_pred))\n",
    "print('calssification report validatoin set')\n",
    "print(classification_report(valid_generator.classes, valid_pred, target_names=target_names2))"
   ]
  },
  {
   "cell_type": "code",
   "execution_count": null,
   "metadata": {},
   "outputs": [],
   "source": []
  }
 ],
 "metadata": {
  "kernelspec": {
   "display_name": "virtual_env",
   "language": "python",
   "name": "virtual_env"
  },
  "language_info": {
   "codemirror_mode": {
    "name": "ipython",
    "version": 3
   },
   "file_extension": ".py",
   "mimetype": "text/x-python",
   "name": "python",
   "nbconvert_exporter": "python",
   "pygments_lexer": "ipython3",
   "version": "3.6.9"
  }
 },
 "nbformat": 4,
 "nbformat_minor": 1
}
